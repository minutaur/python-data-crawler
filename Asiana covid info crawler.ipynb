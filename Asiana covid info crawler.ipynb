{
 "cells": [
  {
   "cell_type": "markdown",
   "id": "9d196ead",
   "metadata": {},
   "source": [
    "## Basic of tag\n",
    "\n",
    "- Example\n",
    "\n",
    "```\n",
    "<span style=\"font-size: 20px;font-weight:bold\">Hell world</span>\n",
    "```\n",
    "\n",
    "- Preview\n",
    "\n",
    "<span style=\"font-size: 20px;font-weight:bold\">Hell world</span>\n",
    "\n",
    "- tag: span\n",
    "- attribute: style=\"font-size: 20px;font-weight:bold\"\n",
    "    - Additional info\n",
    "    - name/value format\n",
    "    \n",
    "https://www.w3schools.com/html/html_attributes.asp"
   ]
  },
  {
   "attachments": {},
   "cell_type": "markdown",
   "id": "1ff4a422",
   "metadata": {},
   "source": [
    "## What is DOM (Document Object Model)\n",
    "\n",
    "[Mozilla Define](https://developer.mozilla.org/ko/docs/Web/API/Document_Object_Model/Introduction)\n",
    "\n",
    "- Programming Interface for HTML, XML (Can easily read, create, update, delete contents)\n",
    "- Converted from document to tree data-structure!\n",
    "\n",
    "### HTML\n",
    "\n",
    "<img width=\"721\" alt=\"스크린샷 2022-11-19 19 53 04\" src=\"https://user-images.githubusercontent.com/16532326/202847128-cba49b7a-a96e-4151-bf10-6e351226201f.png\">\n",
    "\n",
    "- Open chrome developer tool\n",
    "\n",
    "### DOM\n",
    "\n",
    "<img width=\"480\" height=\"auto\" src=\"https://user-images.githubusercontent.com/16532326/202847294-1aa04b39-c3c3-4969-bc70-ec1aa989ee93.jpg\"/>\n",
    "\n",
    "```\n",
    "document.children\n",
    "## result\n",
    "childElementCount: 2\n",
    "childNodes: NodeList(3) [head, text, body]\n",
    "children: HTMLCollection(2)\n",
    "    0: head\n",
    "    1: body\n",
    "length: 2\n",
    "[[Prototype]]: HTMLCollection\n",
    "classList: DOMTokenList [value: '']\n",
    "```\n",
    "\n",
    "[DOM viewer](http://bioub.github.io/dom-visualizer/)\n",
    "\n",
    "[Youtube tutorial link](https://youtu.be/ipkjfvl40s0)\n"
   ]
  },
  {
   "cell_type": "markdown",
   "id": "aaf8bab3",
   "metadata": {},
   "source": [
    "\n",
    "## What is Xpath\n",
    "\n",
    "- Query language that navigating in HTML/XML documents ([Reference](https://ko.wikipedia.org/wiki/XPath))\n",
    "\n",
    "[Query examples](https://www.w3schools.com/xml/xpath_syntax.asp)\n",
    "\n",
    "[Youtube tutorial link](https://youtu.be/U-MZJ6rbqi4)"
   ]
  },
  {
   "cell_type": "markdown",
   "id": "96e01bf4",
   "metadata": {},
   "source": [
    "## CSS selector\n",
    "\n",
    "[CSS selector examples](https://www.w3schools.com/csSref/css_selectors.php)"
   ]
  },
  {
   "cell_type": "code",
   "execution_count": 1,
   "id": "30e566ad",
   "metadata": {},
   "outputs": [
    {
     "name": "stdout",
     "output_type": "stream",
     "text": [
      "Requirement already satisfied: selenium==4.6.0 in ./crawl-venv/lib/python3.9/site-packages (4.6.0)\n",
      "Requirement already satisfied: trio-websocket~=0.9 in ./crawl-venv/lib/python3.9/site-packages (from selenium==4.6.0) (0.9.2)\n",
      "Requirement already satisfied: urllib3[socks]~=1.26 in ./crawl-venv/lib/python3.9/site-packages (from selenium==4.6.0) (1.26.12)\n",
      "Requirement already satisfied: trio~=0.17 in ./crawl-venv/lib/python3.9/site-packages (from selenium==4.6.0) (0.22.0)\n",
      "Requirement already satisfied: certifi>=2021.10.8 in ./crawl-venv/lib/python3.9/site-packages (from selenium==4.6.0) (2022.9.24)\n",
      "Requirement already satisfied: async-generator>=1.10 in ./crawl-venv/lib/python3.9/site-packages (from trio-websocket~=0.9->selenium==4.6.0) (1.10)\n",
      "Requirement already satisfied: wsproto>=0.14 in ./crawl-venv/lib/python3.9/site-packages (from trio-websocket~=0.9->selenium==4.6.0) (1.2.0)\n",
      "Requirement already satisfied: PySocks!=1.5.7,<2.0,>=1.5.6; extra == \"socks\" in ./crawl-venv/lib/python3.9/site-packages (from urllib3[socks]~=1.26->selenium==4.6.0) (1.7.1)\n",
      "Requirement already satisfied: attrs>=19.2.0 in ./crawl-venv/lib/python3.9/site-packages (from trio~=0.17->selenium==4.6.0) (22.1.0)\n",
      "Requirement already satisfied: idna in ./crawl-venv/lib/python3.9/site-packages (from trio~=0.17->selenium==4.6.0) (3.4)\n",
      "Requirement already satisfied: sniffio in ./crawl-venv/lib/python3.9/site-packages (from trio~=0.17->selenium==4.6.0) (1.3.0)\n",
      "Requirement already satisfied: outcome in ./crawl-venv/lib/python3.9/site-packages (from trio~=0.17->selenium==4.6.0) (1.2.0)\n",
      "Requirement already satisfied: sortedcontainers in ./crawl-venv/lib/python3.9/site-packages (from trio~=0.17->selenium==4.6.0) (2.4.0)\n",
      "Requirement already satisfied: exceptiongroup>=1.0.0rc9; python_version < \"3.11\" in ./crawl-venv/lib/python3.9/site-packages (from trio~=0.17->selenium==4.6.0) (1.0.1)\n",
      "Requirement already satisfied: h11<1,>=0.9.0 in ./crawl-venv/lib/python3.9/site-packages (from wsproto>=0.14->trio-websocket~=0.9->selenium==4.6.0) (0.14.0)\n",
      "\u001b[33mWARNING: You are using pip version 20.2.3; however, version 22.3.1 is available.\n",
      "You should consider upgrading via the '/Users/stories2/Documents/GitHub/python-data-crawler/crawl-venv/bin/python3 -m pip install --upgrade pip' command.\u001b[0m\n",
      "Requirement already satisfied: webdriver-manager==3.8.5 in ./crawl-venv/lib/python3.9/site-packages (3.8.5)\n",
      "Requirement already satisfied: tqdm in ./crawl-venv/lib/python3.9/site-packages (from webdriver-manager==3.8.5) (4.64.1)\n",
      "Requirement already satisfied: packaging in ./crawl-venv/lib/python3.9/site-packages (from webdriver-manager==3.8.5) (21.3)\n",
      "Requirement already satisfied: requests in ./crawl-venv/lib/python3.9/site-packages (from webdriver-manager==3.8.5) (2.28.1)\n",
      "Requirement already satisfied: python-dotenv in ./crawl-venv/lib/python3.9/site-packages (from webdriver-manager==3.8.5) (0.21.0)\n",
      "Requirement already satisfied: pyparsing!=3.0.5,>=2.0.2 in ./crawl-venv/lib/python3.9/site-packages (from packaging->webdriver-manager==3.8.5) (3.0.9)\n",
      "Requirement already satisfied: charset-normalizer<3,>=2 in ./crawl-venv/lib/python3.9/site-packages (from requests->webdriver-manager==3.8.5) (2.1.1)\n",
      "Requirement already satisfied: certifi>=2017.4.17 in ./crawl-venv/lib/python3.9/site-packages (from requests->webdriver-manager==3.8.5) (2022.9.24)\n",
      "Requirement already satisfied: urllib3<1.27,>=1.21.1 in ./crawl-venv/lib/python3.9/site-packages (from requests->webdriver-manager==3.8.5) (1.26.12)\n",
      "Requirement already satisfied: idna<4,>=2.5 in ./crawl-venv/lib/python3.9/site-packages (from requests->webdriver-manager==3.8.5) (3.4)\n",
      "\u001b[33mWARNING: You are using pip version 20.2.3; however, version 22.3.1 is available.\n",
      "You should consider upgrading via the '/Users/stories2/Documents/GitHub/python-data-crawler/crawl-venv/bin/python3 -m pip install --upgrade pip' command.\u001b[0m\n"
     ]
    }
   ],
   "source": [
    "!pip3 install selenium==4.6.0\n",
    "!pip3 install webdriver-manager==3.8.5"
   ]
  },
  {
   "cell_type": "code",
   "execution_count": 2,
   "id": "dd88fd9a",
   "metadata": {},
   "outputs": [],
   "source": [
    "from selenium import webdriver\n",
    "from selenium.webdriver.common.by import By\n",
    "\n",
    "from webdriver_manager.chrome import ChromeDriverManager\n",
    "from webdriver_manager.core.utils import ChromeType\n",
    "from selenium.webdriver.chrome.options import Options\n",
    "from selenium.webdriver.chrome.service import Service\n",
    "\n",
    "import os\n",
    "\n",
    "chrome_service = Service(ChromeDriverManager().install())"
   ]
  },
  {
   "cell_type": "code",
   "execution_count": 3,
   "id": "487b68bc",
   "metadata": {},
   "outputs": [],
   "source": [
    "# Get environment variables\n",
    "IS_GITHUB_ACTION = os.getenv('IS_GITHUB_ACTION')"
   ]
  },
  {
   "cell_type": "code",
   "execution_count": 4,
   "id": "42ed152f",
   "metadata": {},
   "outputs": [],
   "source": [
    "chrome_options = Options()\n",
    "if IS_GITHUB_ACTION:\n",
    "    options = [\n",
    "        \"--headless\",\n",
    "        \"--disable-gpu\",\n",
    "        \"--window-size=1920,1200\",\n",
    "        \"--ignore-certificate-errors\",\n",
    "        \"--disable-extensions\",\n",
    "        \"--no-sandbox\",\n",
    "        \"--disable-dev-shm-usage\"\n",
    "    ]\n",
    "    for option in options:\n",
    "        chrome_options.add_argument(option)"
   ]
  },
  {
   "cell_type": "code",
   "execution_count": 5,
   "id": "48efc479",
   "metadata": {},
   "outputs": [
    {
     "name": "stdout",
     "output_type": "stream",
     "text": [
      "total 35304\r\n",
      "drwxr-xr-x  14 stories2  staff       448 11 19 22:52 \u001b[34m.\u001b[m\u001b[m\r\n",
      "drwxr-xr-x@ 55 stories2  staff      1760 11  6 11:29 \u001b[34m..\u001b[m\u001b[m\r\n",
      "drwxr-xr-x  16 stories2  staff       512 11 19 22:00 \u001b[34m.git\u001b[m\u001b[m\r\n",
      "-rw-r--r--   1 stories2  staff      7729 11 13 09:45 .gitignore\r\n",
      "drwxr-xr-x   3 stories2  staff        96 11 19 22:00 \u001b[34m.ipynb_checkpoints\u001b[m\u001b[m\r\n",
      "-rw-r--r--   1 stories2  staff     15646 11 19 22:52 Asiana covid info crawler.ipynb\r\n",
      "-rw-r--r--   1 stories2  staff      1065 11  6 11:29 LICENSE\r\n",
      "-rw-r--r--   1 stories2  staff       763 11 13 09:46 README.md\r\n",
      "-rwxr-xr-x   1 stories2  staff  16535288 11  6 12:40 \u001b[31mchromedriver\u001b[m\u001b[m\r\n",
      "-rw-r--r--@  1 stories2  staff    767504 11 13 00:12 covid.skyscanner.json\r\n",
      "-rw-r--r--@  1 stories2  staff    727948 11 13 00:14 covid.skyscanner.vaccinated.json\r\n",
      "drwxr-xr-x   8 stories2  staff       256 11 13 00:28 \u001b[34mcrawl-venv\u001b[m\u001b[m\r\n",
      "-rw-r--r--   1 stories2  staff       202 11  6 12:44 index.py\r\n",
      "-rw-r--r--   1 stories2  staff       504 11 13 09:45 requirements.txt\r\n"
     ]
    }
   ],
   "source": [
    "!ls -al"
   ]
  },
  {
   "cell_type": "code",
   "execution_count": 6,
   "id": "9e0ee434",
   "metadata": {},
   "outputs": [
    {
     "name": "stdout",
     "output_type": "stream",
     "text": [
      "/Users/stories2/Documents/GitHub/python-data-crawler\r\n"
     ]
    }
   ],
   "source": [
    "!pwd"
   ]
  },
  {
   "cell_type": "code",
   "execution_count": 7,
   "id": "39f25512",
   "metadata": {},
   "outputs": [],
   "source": [
    "!cd"
   ]
  },
  {
   "cell_type": "code",
   "execution_count": 8,
   "id": "3b352b9e",
   "metadata": {},
   "outputs": [],
   "source": [
    "my_dir=!pwd"
   ]
  },
  {
   "cell_type": "code",
   "execution_count": 9,
   "id": "43c5435a",
   "metadata": {},
   "outputs": [
    {
     "data": {
      "text/plain": [
       "'/Users/stories2/Documents/GitHub/python-data-crawler'"
      ]
     },
     "execution_count": 9,
     "metadata": {},
     "output_type": "execute_result"
    }
   ],
   "source": [
    "my_dir[0]"
   ]
  },
  {
   "cell_type": "markdown",
   "id": "ab2d5dd6",
   "metadata": {},
   "source": [
    "```\n",
    "## for windows\n",
    "browser = webdriver.Chrome(f'{my_dir[0]}\\\\chromedriver.exe')\n",
    "```"
   ]
  },
  {
   "cell_type": "code",
   "execution_count": 10,
   "id": "d62974ab",
   "metadata": {},
   "outputs": [],
   "source": [
    "# browser = webdriver.Chrome(f'{my_dir[0]}/chromedriver')    \n",
    "browser = webdriver.Chrome(service=chrome_service, options=chrome_options)\n",
    "browser.set_window_size(1920, 1080)\n",
    "browser.get('https://flyasiana.com/C/KR/KO/contents/entry-restrictions')\n",
    "# browser.get('https://www.skyscanner.co.kr/travel-restrictions/%EB%8C%80%EB%A7%8C/29475323?origin=29475329#MapContainer')"
   ]
  },
  {
   "cell_type": "code",
   "execution_count": 11,
   "id": "56cbc4f3",
   "metadata": {},
   "outputs": [
    {
     "data": {
      "text/plain": [
       "'국가별 입국 제한 안내'"
      ]
     },
     "execution_count": 11,
     "metadata": {},
     "output_type": "execute_result"
    }
   ],
   "source": [
    "browser.find_element(By.CSS_SELECTOR, '#careplus > div > div.main_site > h3').text"
   ]
  },
  {
   "cell_type": "markdown",
   "id": "e7d5a5b8",
   "metadata": {},
   "source": [
    "### Visualize crawling target as image"
   ]
  },
  {
   "cell_type": "code",
   "execution_count": 12,
   "id": "d3e3f5e8",
   "metadata": {},
   "outputs": [
    {
     "data": {
      "image/png": "[encoded data removed]",
      "text/plain": [
       "<IPython.core.display.Image object>"
      ]
     },
     "execution_count": 12,
     "metadata": {},
     "output_type": "execute_result"
    }
   ],
   "source": [
    "from IPython import display\n",
    "from base64 import b64decode\n",
    "display.Image(b64decode(browser.find_element(By.CSS_SELECTOR, '#careplus > div > div.cms_wrap > div.cms-cont > div').screenshot_as_base64))\n",
    "\n",
    "# browser.find_element_by_css_selector('#careplus > div > div.cms_wrap > div.cms-cont > div').screenshot_as_base64"
   ]
  },
  {
   "cell_type": "markdown",
   "id": "a8cf88be",
   "metadata": {},
   "source": [
    "### Crawling country list"
   ]
  },
  {
   "cell_type": "code",
   "execution_count": 13,
   "id": "dceb94bc",
   "metadata": {},
   "outputs": [
    {
     "data": {
      "text/plain": [
       "['일본', '중국', '홍콩', '싱가포르', '인도네시아', '인도', '필리핀', '미국', '사이판']"
      ]
     },
     "execution_count": 13,
     "metadata": {},
     "output_type": "execute_result"
    }
   ],
   "source": [
    "countryTable = browser.find_element(By.CSS_SELECTOR, '#careplus > div > div.cms_wrap > div.cms-cont > div')\\\n",
    "    .find_elements(By.CSS_SELECTOR, 'table')[0]\n",
    "# for tr in trArry:\n",
    "#     print(tr.get_attribute('innerHTML'))\n",
    "# countryTable.get_attribute('innerHTML')\n",
    "# for tr in countryTable.find_elements_by_tag_name('tr'):\n",
    "#     print(tr.text)\n",
    "    \n",
    "countryName = [x.text for x in countryTable.find_elements(By.TAG_NAME, 'tr')][1:]\n",
    "countryName\n",
    "# trArry.find_elents_by_css_selector('tr')"
   ]
  },
  {
   "cell_type": "markdown",
   "id": "e32eda39",
   "metadata": {},
   "source": [
    "### Crawl that country Covid-19 entry restrictions info"
   ]
  },
  {
   "cell_type": "code",
   "execution_count": 14,
   "id": "26b92c8a",
   "metadata": {},
   "outputs": [],
   "source": [
    "countryInfo = browser.find_element(By.CSS_SELECTOR, '#careplus > div > div.cms_wrap > div.cms-cont > div > table:nth-child(2) > tbody')\n",
    "\n",
    "#.get_attribute('innerHTML')\n",
    "#.text\n",
    "\n"
   ]
  },
  {
   "cell_type": "code",
   "execution_count": 15,
   "id": "c370249d",
   "metadata": {},
   "outputs": [],
   "source": [
    "tableResult = []"
   ]
  },
  {
   "cell_type": "code",
   "execution_count": 16,
   "id": "4573f99b",
   "metadata": {},
   "outputs": [
    {
     "name": "stdout",
     "output_type": "stream",
     "text": [
      "\n",
      "일본\n",
      ", X, O, O\n",
      "(백신 3차 접종 X), [VISIT JAPAN WEB], https://vjw-lp.digital.go.jp/\n",
      "△\n",
      "(출발 지역별 상이), [일본 정부 안내사항], https://www.mofa.go.jp/ca/fna/page4e_001053.html\n",
      "\n",
      "중국\n",
      ", O, X, O, O\n",
      "[건강 QR 코드]\n",
      "(녹색 QR 필수)\n",
      "[세관신고서], https://hrhk.cs.mfa.gov.cn/H5/\n",
      "7일\n",
      "(지역별 상이), [주한중국대사관 안내사항], http://kr.china-embassy.gov.cn/kor/lsfw/\n",
      "\n",
      "홍콩\n",
      ", △\n",
      "[안내사항], https://www.immd.gov.hk/eng/services/visas/visit-transit/visit-visa-entry-permit.html\n",
      "O\n",
      "(홍콩 거주자 제외), O, [건강상태신고서]\n",
      "(녹색 QR 필수), https://www.chp.gov.hk/hdf/\n",
      "X, [홍콩 정부 안내사항], https://www.coronavirus.gov.hk/eng/inbound-travel.html\n",
      "\n",
      "싱가포르\n",
      ", X, O, X\n",
      "(백신 미접종자 O), [SG Arrival Card], https://eservices.ica.gov.sg/sgarrivalcard/\n",
      "X, [싱가포르 정부 안내사항], https://www.ica.gov.sg/enter-transit-depart/entering-singapore\n",
      "\n",
      "인도네시아\n",
      ", △, O, X, [Peduli Lindungi]\n",
      "[전자세관신고], https://www.pedulilindungi.id/\n",
      "X, 건강상 미접종자\n",
      "음성확인서 필요 (5일 격리)\n",
      "[인도네시아 정부 안내사항], https://www.imigrasi.go.id/en/covid19/#1621501651158-8e7bbdc3-bbb8\n",
      "\n",
      "인도\n",
      ", △, 백신접종증명서 또는 음성확인서 필요\n",
      "(Air Suvidha에 사전 등록 필요), [Air Suvidha], https://www.newdelhiairport.in/airsuvidha/apho-registration\n",
      "△\n",
      "(지역별 상이), [인도 정부 안내사항], https://www.mohfw.gov.in/\n",
      "\n",
      "필리핀\n",
      ", △\n",
      "[안내사항], https://dfa.gov.ph/list-of-countries-for-21-day-visa\n",
      "O, O\n",
      "(백신 3차 접종 X), [earrival card], https://www.onehealthpass.com.ph/\n",
      "5일\n",
      "(백신 미접종자), 격리 비용 자부담\n",
      "[필리핀 관광청 안내], https://philippines.travel/safetrip#inboundadvisory\n",
      "\n",
      "미국\n",
      ", X, O\n",
      "(시민권자, 영주권자 이민비자 제외), X, X, X, [질병통제센터 안내사항], https://www.cdc.gov/coronavirus/2019-ncov/travelers/international-travel-during-covid19.html\n",
      "\n",
      "사이판\n",
      ", X, X, X, "
     ]
    }
   ],
   "source": [
    "idx = 0;\n",
    "for tr in countryInfo.find_elements(By.TAG_NAME, 'tr'):\n",
    "    print(f'\\n{countryName[idx]}')\n",
    "#     print(tr.text)\n",
    "    row = []\n",
    "    for td in tr.find_elements(By.TAG_NAME, 'td'):\n",
    "        text = td.text\n",
    "        print(td.text, end=\", \")\n",
    "        try:\n",
    "#             print(td.get_attribute('innerHTML'), 'test', )\n",
    "#             aTag = td.find_element_by_tag_name('a')\n",
    "#             if aTag is not None:\n",
    "#                 print(a.get_attribute('href'))\n",
    "            print(td.find_element(By.TAG_NAME, 'a').get_attribute('href'))\n",
    "            text = text + ' ' + td.find_element(By.TAG_NAME, 'a').get_attribute('href')\n",
    "        except:\n",
    "            print('', end=\"\")\n",
    "        row.append(text)\n",
    "    idx += 1\n",
    "    tableResult.append(row)"
   ]
  },
  {
   "cell_type": "code",
   "execution_count": 17,
   "id": "764ba390",
   "metadata": {},
   "outputs": [
    {
     "name": "stdout",
     "output_type": "stream",
     "text": [
      "Requirement already satisfied: tabletext==0.1 in ./crawl-venv/lib/python3.9/site-packages (0.1)\n",
      "\u001b[33mWARNING: You are using pip version 20.2.3; however, version 22.3.1 is available.\n",
      "You should consider upgrading via the '/Users/stories2/Documents/GitHub/python-data-crawler/crawl-venv/bin/python3 -m pip install --upgrade pip' command.\u001b[0m\n"
     ]
    }
   ],
   "source": [
    "!pip3 install tabletext==0.1"
   ]
  },
  {
   "cell_type": "code",
   "execution_count": 18,
   "id": "17bae695",
   "metadata": {},
   "outputs": [
    {
     "data": {
      "text/plain": [
       "[['',\n",
       "  'X',\n",
       "  'O',\n",
       "  'O\\n(백신 3차 접종 X)',\n",
       "  '[VISIT JAPAN WEB] https://vjw-lp.digital.go.jp/',\n",
       "  '△\\n(출발 지역별 상이)',\n",
       "  '[일본 정부 안내사항] https://www.mofa.go.jp/ca/fna/page4e_001053.html'],\n",
       " ['',\n",
       "  'O',\n",
       "  'X',\n",
       "  'O',\n",
       "  'O\\n[건강 QR 코드]\\n(녹색 QR 필수)\\n[세관신고서] https://hrhk.cs.mfa.gov.cn/H5/',\n",
       "  '7일\\n(지역별 상이)',\n",
       "  '[주한중국대사관 안내사항] http://kr.china-embassy.gov.cn/kor/lsfw/'],\n",
       " ['',\n",
       "  '△\\n[안내사항] https://www.immd.gov.hk/eng/services/visas/visit-transit/visit-visa-entry-permit.html',\n",
       "  'O\\n(홍콩 거주자 제외)',\n",
       "  'O',\n",
       "  '[건강상태신고서]\\n(녹색 QR 필수) https://www.chp.gov.hk/hdf/',\n",
       "  'X',\n",
       "  '[홍콩 정부 안내사항] https://www.coronavirus.gov.hk/eng/inbound-travel.html'],\n",
       " ['',\n",
       "  'X',\n",
       "  'O',\n",
       "  'X\\n(백신 미접종자 O)',\n",
       "  '[SG Arrival Card] https://eservices.ica.gov.sg/sgarrivalcard/',\n",
       "  'X',\n",
       "  '[싱가포르 정부 안내사항] https://www.ica.gov.sg/enter-transit-depart/entering-singapore'],\n",
       " ['',\n",
       "  '△',\n",
       "  'O',\n",
       "  'X',\n",
       "  '[Peduli Lindungi]\\n[전자세관신고] https://www.pedulilindungi.id/',\n",
       "  'X',\n",
       "  '건강상 미접종자\\n음성확인서 필요 (5일 격리)\\n[인도네시아 정부 안내사항] https://www.imigrasi.go.id/en/covid19/#1621501651158-8e7bbdc3-bbb8'],\n",
       " ['',\n",
       "  '△',\n",
       "  '백신접종증명서 또는 음성확인서 필요\\n(Air Suvidha에 사전 등록 필요)',\n",
       "  '[Air Suvidha] https://www.newdelhiairport.in/airsuvidha/apho-registration',\n",
       "  '△\\n(지역별 상이)',\n",
       "  '[인도 정부 안내사항] https://www.mohfw.gov.in/'],\n",
       " ['',\n",
       "  '△\\n[안내사항] https://dfa.gov.ph/list-of-countries-for-21-day-visa',\n",
       "  'O',\n",
       "  'O\\n(백신 3차 접종 X)',\n",
       "  '[earrival card] https://www.onehealthpass.com.ph/',\n",
       "  '5일\\n(백신 미접종자)',\n",
       "  '격리 비용 자부담\\n[필리핀 관광청 안내] https://philippines.travel/safetrip#inboundadvisory'],\n",
       " ['',\n",
       "  'X',\n",
       "  'O\\n(시민권자, 영주권자 이민비자 제외)',\n",
       "  'X',\n",
       "  'X',\n",
       "  'X',\n",
       "  '[질병통제센터 안내사항] https://www.cdc.gov/coronavirus/2019-ncov/travelers/international-travel-during-covid19.html'],\n",
       " ['', 'X', 'X', 'X']]"
      ]
     },
     "execution_count": 18,
     "metadata": {},
     "output_type": "execute_result"
    }
   ],
   "source": [
    "tableResult"
   ]
  },
  {
   "cell_type": "markdown",
   "id": "d3fee2a6",
   "metadata": {},
   "source": [
    "### Post processing\n",
    "\n",
    "- Add country name to each first col"
   ]
  },
  {
   "cell_type": "code",
   "execution_count": 19,
   "id": "1172b676",
   "metadata": {},
   "outputs": [
    {
     "data": {
      "text/plain": [
       "['일본',\n",
       " 'X',\n",
       " 'O',\n",
       " 'O\\n(백신 3차 접종 X)',\n",
       " '[VISIT JAPAN WEB] https://vjw-lp.digital.go.jp/',\n",
       " '△\\n(출발 지역별 상이)',\n",
       " '[일본 정부 안내사항] https://www.mofa.go.jp/ca/fna/page4e_001053.html']"
      ]
     },
     "execution_count": 19,
     "metadata": {},
     "output_type": "execute_result"
    }
   ],
   "source": [
    "idx = 0\n",
    "for country in countryName:\n",
    "    tableResult[idx][0] = country\n",
    "    idx = idx + 1\n",
    "tableResult[0]"
   ]
  },
  {
   "cell_type": "markdown",
   "id": "73d7128b",
   "metadata": {},
   "source": [
    "- Make each rows have same col count"
   ]
  },
  {
   "cell_type": "code",
   "execution_count": 20,
   "id": "65c9dbd6",
   "metadata": {},
   "outputs": [
    {
     "data": {
      "text/plain": [
       "['인도',\n",
       " '△',\n",
       " '백신접종증명서 또는 음성확인서 필요\\n(Air Suvidha에 사전 등록 필요)',\n",
       " '[Air Suvidha] https://www.newdelhiairport.in/airsuvidha/apho-registration',\n",
       " '△\\n(지역별 상이)',\n",
       " '[인도 정부 안내사항] https://www.mohfw.gov.in/']"
      ]
     },
     "execution_count": 20,
     "metadata": {},
     "output_type": "execute_result"
    }
   ],
   "source": [
    "tableResult[5]"
   ]
  },
  {
   "cell_type": "code",
   "execution_count": 21,
   "id": "770a31d9",
   "metadata": {},
   "outputs": [
    {
     "data": {
      "text/plain": [
       "['인도',\n",
       " '△',\n",
       " '백신접종증명서 또는 음성확인서 필요\\n(Air Suvidha에 사전 등록 필요)',\n",
       " '백신접종증명서 또는 음성확인서 필요\\n(Air Suvidha에 사전 등록 필요)',\n",
       " '[Air Suvidha] https://www.newdelhiairport.in/airsuvidha/apho-registration',\n",
       " '△\\n(지역별 상이)',\n",
       " '[인도 정부 안내사항] https://www.mohfw.gov.in/']"
      ]
     },
     "execution_count": 21,
     "metadata": {},
     "output_type": "execute_result"
    }
   ],
   "source": [
    "tableResult[5][2:2] = [tableResult[5][2]]\n",
    "tableResult[5]"
   ]
  },
  {
   "cell_type": "code",
   "execution_count": 22,
   "id": "083719da",
   "metadata": {},
   "outputs": [
    {
     "data": {
      "text/plain": [
       "['사이판', 'X', 'X', 'X']"
      ]
     },
     "execution_count": 22,
     "metadata": {},
     "output_type": "execute_result"
    }
   ],
   "source": [
    "tableResult[8]"
   ]
  },
  {
   "cell_type": "code",
   "execution_count": 23,
   "id": "1e9f4169",
   "metadata": {},
   "outputs": [
    {
     "data": {
      "text/plain": [
       "['사이판', 'X', 'O\\n(시민권자, 영주권자 이민비자 제외)', 'X', 'X', 'X']"
      ]
     },
     "execution_count": 23,
     "metadata": {},
     "output_type": "execute_result"
    }
   ],
   "source": [
    "tableResult[8][2:2] = [*tableResult[7][2:4]]\n",
    "tableResult[8]"
   ]
  },
  {
   "cell_type": "code",
   "execution_count": 24,
   "id": "7e8ff758",
   "metadata": {},
   "outputs": [
    {
     "data": {
      "text/plain": [
       "['사이판',\n",
       " 'X',\n",
       " 'O\\n(시민권자, 영주권자 이민비자 제외)',\n",
       " 'X',\n",
       " 'X',\n",
       " 'X',\n",
       " '[질병통제센터 안내사항] https://www.cdc.gov/coronavirus/2019-ncov/travelers/international-travel-during-covid19.html']"
      ]
     },
     "execution_count": 24,
     "metadata": {},
     "output_type": "execute_result"
    }
   ],
   "source": [
    "tableResult[8][6:] = [tableResult[7][6]]\n",
    "tableResult[8]"
   ]
  },
  {
   "cell_type": "markdown",
   "id": "8fbd458c",
   "metadata": {},
   "source": [
    "Unpacking elements from array https://dev.to/arikaturika/unpacking-python-lists-vs-destructuring-javascript-arrays-3mog"
   ]
  },
  {
   "cell_type": "code",
   "execution_count": 25,
   "id": "96f45b52",
   "metadata": {},
   "outputs": [],
   "source": [
    "browser.close()"
   ]
  },
  {
   "cell_type": "markdown",
   "id": "81adbcaf",
   "metadata": {},
   "source": [
    "## Display result"
   ]
  },
  {
   "cell_type": "code",
   "execution_count": 26,
   "id": "b4f8a027",
   "metadata": {},
   "outputs": [],
   "source": [
    "theader = ['국가', '입국 제한', '백신접종증명서', '음성확인서', '사전 신고 절차', '격리', '비고 (상세 조건 확인)']\n",
    "# tableResult = theader + tableResult"
   ]
  },
  {
   "cell_type": "code",
   "execution_count": 27,
   "id": "34826ff3",
   "metadata": {},
   "outputs": [
    {
     "name": "stdout",
     "output_type": "stream",
     "text": [
      "Requirement already satisfied: pandas==1.5.1 in ./crawl-venv/lib/python3.9/site-packages (1.5.1)\n",
      "Requirement already satisfied: numpy>=1.20.3; python_version < \"3.10\" in ./crawl-venv/lib/python3.9/site-packages (from pandas==1.5.1) (1.23.4)\n",
      "Requirement already satisfied: python-dateutil>=2.8.1 in ./crawl-venv/lib/python3.9/site-packages (from pandas==1.5.1) (2.8.2)\n",
      "Requirement already satisfied: pytz>=2020.1 in ./crawl-venv/lib/python3.9/site-packages (from pandas==1.5.1) (2022.6)\n",
      "Requirement already satisfied: six>=1.5 in ./crawl-venv/lib/python3.9/site-packages (from python-dateutil>=2.8.1->pandas==1.5.1) (1.16.0)\n",
      "\u001b[33mWARNING: You are using pip version 20.2.3; however, version 22.3.1 is available.\n",
      "You should consider upgrading via the '/Users/stories2/Documents/GitHub/python-data-crawler/crawl-venv/bin/python3 -m pip install --upgrade pip' command.\u001b[0m\n"
     ]
    }
   ],
   "source": [
    "!pip3 install pandas==1.5.1"
   ]
  },
  {
   "cell_type": "code",
   "execution_count": 28,
   "id": "431c5a31",
   "metadata": {},
   "outputs": [
    {
     "data": {
      "text/html": [
       "<div>\n",
       "<style scoped>\n",
       "    .dataframe tbody tr th:only-of-type {\n",
       "        vertical-align: middle;\n",
       "    }\n",
       "\n",
       "    .dataframe tbody tr th {\n",
       "        vertical-align: top;\n",
       "    }\n",
       "\n",
       "    .dataframe thead th {\n",
       "        text-align: right;\n",
       "    }\n",
       "</style>\n",
       "<table border=\"1\" class=\"dataframe\">\n",
       "  <thead>\n",
       "    <tr style=\"text-align: right;\">\n",
       "      <th></th>\n",
       "      <th>국가</th>\n",
       "      <th>입국 제한</th>\n",
       "      <th>백신접종증명서</th>\n",
       "      <th>음성확인서</th>\n",
       "      <th>사전 신고 절차</th>\n",
       "      <th>격리</th>\n",
       "      <th>비고 (상세 조건 확인)</th>\n",
       "    </tr>\n",
       "  </thead>\n",
       "  <tbody>\n",
       "    <tr>\n",
       "      <th>0</th>\n",
       "      <td>일본</td>\n",
       "      <td>X</td>\n",
       "      <td>O</td>\n",
       "      <td>O\\n(백신 3차 접종 X)</td>\n",
       "      <td>[VISIT JAPAN WEB] https://vjw-lp.digital.go.jp/</td>\n",
       "      <td>△\\n(출발 지역별 상이)</td>\n",
       "      <td>[일본 정부 안내사항] https://www.mofa.go.jp/ca/fna/pag...</td>\n",
       "    </tr>\n",
       "    <tr>\n",
       "      <th>1</th>\n",
       "      <td>중국</td>\n",
       "      <td>O</td>\n",
       "      <td>X</td>\n",
       "      <td>O</td>\n",
       "      <td>O\\n[건강 QR 코드]\\n(녹색 QR 필수)\\n[세관신고서] https://hrh...</td>\n",
       "      <td>7일\\n(지역별 상이)</td>\n",
       "      <td>[주한중국대사관 안내사항] http://kr.china-embassy.gov.cn/...</td>\n",
       "    </tr>\n",
       "    <tr>\n",
       "      <th>2</th>\n",
       "      <td>홍콩</td>\n",
       "      <td>△\\n[안내사항] https://www.immd.gov.hk/eng/services...</td>\n",
       "      <td>O\\n(홍콩 거주자 제외)</td>\n",
       "      <td>O</td>\n",
       "      <td>[건강상태신고서]\\n(녹색 QR 필수) https://www.chp.gov.hk/hdf/</td>\n",
       "      <td>X</td>\n",
       "      <td>[홍콩 정부 안내사항] https://www.coronavirus.gov.hk/en...</td>\n",
       "    </tr>\n",
       "    <tr>\n",
       "      <th>3</th>\n",
       "      <td>싱가포르</td>\n",
       "      <td>X</td>\n",
       "      <td>O</td>\n",
       "      <td>X\\n(백신 미접종자 O)</td>\n",
       "      <td>[SG Arrival Card] https://eservices.ica.gov.sg...</td>\n",
       "      <td>X</td>\n",
       "      <td>[싱가포르 정부 안내사항] https://www.ica.gov.sg/enter-tr...</td>\n",
       "    </tr>\n",
       "    <tr>\n",
       "      <th>4</th>\n",
       "      <td>인도네시아</td>\n",
       "      <td>△</td>\n",
       "      <td>O</td>\n",
       "      <td>X</td>\n",
       "      <td>[Peduli Lindungi]\\n[전자세관신고] https://www.peduli...</td>\n",
       "      <td>X</td>\n",
       "      <td>건강상 미접종자\\n음성확인서 필요 (5일 격리)\\n[인도네시아 정부 안내사항] ht...</td>\n",
       "    </tr>\n",
       "    <tr>\n",
       "      <th>5</th>\n",
       "      <td>인도</td>\n",
       "      <td>△</td>\n",
       "      <td>백신접종증명서 또는 음성확인서 필요\\n(Air Suvidha에 사전 등록 필요)</td>\n",
       "      <td>백신접종증명서 또는 음성확인서 필요\\n(Air Suvidha에 사전 등록 필요)</td>\n",
       "      <td>[Air Suvidha] https://www.newdelhiairport.in/a...</td>\n",
       "      <td>△\\n(지역별 상이)</td>\n",
       "      <td>[인도 정부 안내사항] https://www.mohfw.gov.in/</td>\n",
       "    </tr>\n",
       "    <tr>\n",
       "      <th>6</th>\n",
       "      <td>필리핀</td>\n",
       "      <td>△\\n[안내사항] https://dfa.gov.ph/list-of-countries...</td>\n",
       "      <td>O</td>\n",
       "      <td>O\\n(백신 3차 접종 X)</td>\n",
       "      <td>[earrival card] https://www.onehealthpass.com.ph/</td>\n",
       "      <td>5일\\n(백신 미접종자)</td>\n",
       "      <td>격리 비용 자부담\\n[필리핀 관광청 안내] https://philippines.tr...</td>\n",
       "    </tr>\n",
       "    <tr>\n",
       "      <th>7</th>\n",
       "      <td>미국</td>\n",
       "      <td>X</td>\n",
       "      <td>O\\n(시민권자, 영주권자 이민비자 제외)</td>\n",
       "      <td>X</td>\n",
       "      <td>X</td>\n",
       "      <td>X</td>\n",
       "      <td>[질병통제센터 안내사항] https://www.cdc.gov/coronavirus/...</td>\n",
       "    </tr>\n",
       "    <tr>\n",
       "      <th>8</th>\n",
       "      <td>사이판</td>\n",
       "      <td>X</td>\n",
       "      <td>O\\n(시민권자, 영주권자 이민비자 제외)</td>\n",
       "      <td>X</td>\n",
       "      <td>X</td>\n",
       "      <td>X</td>\n",
       "      <td>[질병통제센터 안내사항] https://www.cdc.gov/coronavirus/...</td>\n",
       "    </tr>\n",
       "  </tbody>\n",
       "</table>\n",
       "</div>"
      ],
      "text/plain": [
       "      국가                                              입국 제한  \\\n",
       "0     일본                                                  X   \n",
       "1     중국                                                  O   \n",
       "2     홍콩  △\\n[안내사항] https://www.immd.gov.hk/eng/services...   \n",
       "3   싱가포르                                                  X   \n",
       "4  인도네시아                                                  △   \n",
       "5     인도                                                  △   \n",
       "6    필리핀  △\\n[안내사항] https://dfa.gov.ph/list-of-countries...   \n",
       "7     미국                                                  X   \n",
       "8    사이판                                                  X   \n",
       "\n",
       "                                        백신접종증명서  \\\n",
       "0                                             O   \n",
       "1                                             X   \n",
       "2                                O\\n(홍콩 거주자 제외)   \n",
       "3                                             O   \n",
       "4                                             O   \n",
       "5  백신접종증명서 또는 음성확인서 필요\\n(Air Suvidha에 사전 등록 필요)   \n",
       "6                                             O   \n",
       "7                       O\\n(시민권자, 영주권자 이민비자 제외)   \n",
       "8                       O\\n(시민권자, 영주권자 이민비자 제외)   \n",
       "\n",
       "                                          음성확인서  \\\n",
       "0                               O\\n(백신 3차 접종 X)   \n",
       "1                                             O   \n",
       "2                                             O   \n",
       "3                                X\\n(백신 미접종자 O)   \n",
       "4                                             X   \n",
       "5  백신접종증명서 또는 음성확인서 필요\\n(Air Suvidha에 사전 등록 필요)   \n",
       "6                               O\\n(백신 3차 접종 X)   \n",
       "7                                             X   \n",
       "8                                             X   \n",
       "\n",
       "                                            사전 신고 절차              격리  \\\n",
       "0    [VISIT JAPAN WEB] https://vjw-lp.digital.go.jp/  △\\n(출발 지역별 상이)   \n",
       "1  O\\n[건강 QR 코드]\\n(녹색 QR 필수)\\n[세관신고서] https://hrh...    7일\\n(지역별 상이)   \n",
       "2  [건강상태신고서]\\n(녹색 QR 필수) https://www.chp.gov.hk/hdf/               X   \n",
       "3  [SG Arrival Card] https://eservices.ica.gov.sg...               X   \n",
       "4  [Peduli Lindungi]\\n[전자세관신고] https://www.peduli...               X   \n",
       "5  [Air Suvidha] https://www.newdelhiairport.in/a...     △\\n(지역별 상이)   \n",
       "6  [earrival card] https://www.onehealthpass.com.ph/   5일\\n(백신 미접종자)   \n",
       "7                                                  X               X   \n",
       "8                                                  X               X   \n",
       "\n",
       "                                       비고 (상세 조건 확인)  \n",
       "0  [일본 정부 안내사항] https://www.mofa.go.jp/ca/fna/pag...  \n",
       "1  [주한중국대사관 안내사항] http://kr.china-embassy.gov.cn/...  \n",
       "2  [홍콩 정부 안내사항] https://www.coronavirus.gov.hk/en...  \n",
       "3  [싱가포르 정부 안내사항] https://www.ica.gov.sg/enter-tr...  \n",
       "4  건강상 미접종자\\n음성확인서 필요 (5일 격리)\\n[인도네시아 정부 안내사항] ht...  \n",
       "5             [인도 정부 안내사항] https://www.mohfw.gov.in/  \n",
       "6  격리 비용 자부담\\n[필리핀 관광청 안내] https://philippines.tr...  \n",
       "7  [질병통제센터 안내사항] https://www.cdc.gov/coronavirus/...  \n",
       "8  [질병통제센터 안내사항] https://www.cdc.gov/coronavirus/...  "
      ]
     },
     "execution_count": 28,
     "metadata": {},
     "output_type": "execute_result"
    }
   ],
   "source": [
    "import pandas as pd\n",
    "pd.DataFrame(tableResult, columns=theader)"
   ]
  },
  {
   "cell_type": "code",
   "execution_count": 29,
   "id": "12893a99",
   "metadata": {},
   "outputs": [],
   "source": [
    "# from tabletext import to_text\n",
    "# to_text(tableResult)"
   ]
  }
 ],
 "metadata": {
  "kernelspec": {
   "display_name": "Python 3 (ipykernel)",
   "language": "python",
   "name": "python3"
  },
  "language_info": {
   "codemirror_mode": {
    "name": "ipython",
    "version": 3
   },
   "file_extension": ".py",
   "mimetype": "text/x-python",
   "name": "python",
   "nbconvert_exporter": "python",
   "pygments_lexer": "ipython3",
   "version": "3.9.1"
  }
 },
 "nbformat": 4,
 "nbformat_minor": 5
}
