{
 "cells": [
  {
   "cell_type": "code",
   "execution_count": 1,
   "id": "4ce39ad4",
   "metadata": {
    "execution": {
     "iopub.execute_input": "2022-11-23T06:12:05.545055Z",
     "iopub.status.busy": "2022-11-23T06:12:05.544330Z",
     "iopub.status.idle": "2022-11-23T06:12:05.554443Z",
     "shell.execute_reply": "2022-11-23T06:12:05.553508Z"
    },
    "jupyter": {
     "source_hidden": true
    },
    "papermill": {
     "duration": 0.02357,
     "end_time": "2022-11-23T06:12:05.556951",
     "exception": false,
     "start_time": "2022-11-23T06:12:05.533381",
     "status": "completed"
    },
    "tags": [
     "injected-parameters"
    ]
   },
   "outputs": [],
   "source": [
    "# Parameters\n",
    "secretsPath = \"/home/runner/work/_temp/secrets.json\"\n"
   ]
  },
  {
   "cell_type": "markdown",
   "id": "9d196ead",
   "metadata": {
    "papermill": {
     "duration": 0.009815,
     "end_time": "2022-11-23T06:12:05.575204",
     "exception": false,
     "start_time": "2022-11-23T06:12:05.565389",
     "status": "completed"
    },
    "tags": []
   },
   "source": [
    "## Basic of tag\n",
    "\n",
    "- Example\n",
    "\n",
    "```\n",
    "<span style=\"font-size: 20px;font-weight:bold\">Hell world</span>\n",
    "```\n",
    "\n",
    "- Preview\n",
    "\n",
    "<span style=\"font-size: 20px;font-weight:bold\">Hell world</span>\n",
    "\n",
    "- tag: span\n",
    "- attribute: style=\"font-size: 20px;font-weight:bold\"\n",
    "    - Additional info\n",
    "    - name/value format\n",
    "    \n",
    "https://www.w3schools.com/html/html_attributes.asp"
   ]
  },
  {
   "cell_type": "markdown",
   "id": "1ff4a422",
   "metadata": {
    "papermill": {
     "duration": 0.008904,
     "end_time": "2022-11-23T06:12:05.592212",
     "exception": false,
     "start_time": "2022-11-23T06:12:05.583308",
     "status": "completed"
    },
    "tags": []
   },
   "source": [
    "## What is DOM (Document Object Model)\n",
    "\n",
    "[Mozilla Define](https://developer.mozilla.org/ko/docs/Web/API/Document_Object_Model/Introduction)\n",
    "\n",
    "- Programming Interface for HTML, XML (Can easily read, create, update, delete contents)\n",
    "- Converted from document to tree data-structure!\n",
    "\n",
    "### HTML\n",
    "\n",
    "<img width=\"721\" alt=\"스크린샷 2022-11-19 19 53 04\" src=\"https://user-images.githubusercontent.com/16532326/202847128-cba49b7a-a96e-4151-bf10-6e351226201f.png\">\n",
    "\n",
    "- Open chrome developer tool\n",
    "\n",
    "### DOM\n",
    "\n",
    "<img width=\"480\" height=\"auto\" src=\"https://user-images.githubusercontent.com/16532326/202847294-1aa04b39-c3c3-4969-bc70-ec1aa989ee93.jpg\"/>\n",
    "\n",
    "```\n",
    "document.children\n",
    "## result\n",
    "childElementCount: 2\n",
    "childNodes: NodeList(3) [head, text, body]\n",
    "children: HTMLCollection(2)\n",
    "    0: head\n",
    "    1: body\n",
    "length: 2\n",
    "[[Prototype]]: HTMLCollection\n",
    "classList: DOMTokenList [value: '']\n",
    "```\n",
    "\n",
    "[DOM viewer](http://bioub.github.io/dom-visualizer/)\n",
    "\n",
    "[Youtube tutorial link](https://youtu.be/ipkjfvl40s0)\n"
   ]
  },
  {
   "cell_type": "markdown",
   "id": "aaf8bab3",
   "metadata": {
    "papermill": {
     "duration": 0.008492,
     "end_time": "2022-11-23T06:12:05.610817",
     "exception": false,
     "start_time": "2022-11-23T06:12:05.602325",
     "status": "completed"
    },
    "tags": []
   },
   "source": [
    "\n",
    "## What is Xpath\n",
    "\n",
    "- Query language that navigating in HTML/XML documents ([Reference](https://ko.wikipedia.org/wiki/XPath))\n",
    "\n",
    "[Query examples](https://www.w3schools.com/xml/xpath_syntax.asp)\n",
    "\n",
    "[Youtube tutorial link](https://youtu.be/U-MZJ6rbqi4)"
   ]
  },
  {
   "cell_type": "markdown",
   "id": "96e01bf4",
   "metadata": {
    "papermill": {
     "duration": 0.008062,
     "end_time": "2022-11-23T06:12:05.626899",
     "exception": false,
     "start_time": "2022-11-23T06:12:05.618837",
     "status": "completed"
    },
    "tags": []
   },
   "source": [
    "## CSS selector\n",
    "\n",
    "[CSS selector examples](https://www.w3schools.com/csSref/css_selectors.php)"
   ]
  },
  {
   "cell_type": "code",
   "execution_count": 2,
   "id": "30e566ad",
   "metadata": {
    "execution": {
     "iopub.execute_input": "2022-11-23T06:12:05.644851Z",
     "iopub.status.busy": "2022-11-23T06:12:05.644219Z",
     "iopub.status.idle": "2022-11-23T06:12:11.607076Z",
     "shell.execute_reply": "2022-11-23T06:12:11.605915Z"
    },
    "jupyter": {
     "source_hidden": true
    },
    "papermill": {
     "duration": 5.974948,
     "end_time": "2022-11-23T06:12:11.609876",
     "exception": false,
     "start_time": "2022-11-23T06:12:05.634928",
     "status": "completed"
    },
    "tags": []
   },
   "outputs": [
    {
     "name": "stdout",
     "output_type": "stream",
     "text": [
      "Collecting selenium==4.6.0\r\n",
      "  Downloading selenium-4.6.0-py3-none-any.whl (5.2 MB)\r\n",
      "\u001b[?25l     \u001b[90m━━━━━━━━━━━━━━━━━━━━━━━━━━━━━━━━━━━━━━━━\u001b[0m \u001b[32m0.0/5.2 MB\u001b[0m \u001b[31m?\u001b[0m eta \u001b[36m-:--:--\u001b[0m"
     ]
    },
    {
     "name": "stdout",
     "output_type": "stream",
     "text": [
      "\r",
      "\u001b[2K     \u001b[91m━━━━━━━━━━━━━━━━━━\u001b[0m\u001b[90m╺\u001b[0m\u001b[90m━━━━━━━━━━━━━━━━━━━━━\u001b[0m \u001b[32m2.4/5.2 MB\u001b[0m \u001b[31m72.5 MB/s\u001b[0m eta \u001b[36m0:00:01\u001b[0m"
     ]
    },
    {
     "name": "stdout",
     "output_type": "stream",
     "text": [
      "\r",
      "\u001b[2K     \u001b[91m━━━━━━━━━━━━━━━━━━━━━━━━━━━━━━━━━━━━━━━\u001b[0m\u001b[91m╸\u001b[0m \u001b[32m5.2/5.2 MB\u001b[0m \u001b[31m85.9 MB/s\u001b[0m eta \u001b[36m0:00:01\u001b[0m\r",
      "\u001b[2K     \u001b[90m━━━━━━━━━━━━━━━━━━━━━━━━━━━━━━━━━━━━━━━━\u001b[0m \u001b[32m5.2/5.2 MB\u001b[0m \u001b[31m61.2 MB/s\u001b[0m eta \u001b[36m0:00:00\u001b[0m\r\n",
      "\u001b[?25h"
     ]
    },
    {
     "name": "stdout",
     "output_type": "stream",
     "text": [
      "Requirement already satisfied: urllib3[socks]~=1.26 in /opt/hostedtoolcache/Python/3.9.15/x64/lib/python3.9/site-packages (from selenium==4.6.0) (1.26.12)\r\n",
      "Collecting trio~=0.17\r\n",
      "  Downloading trio-0.22.0-py3-none-any.whl (384 kB)\r\n",
      "\u001b[?25l     \u001b[90m━━━━━━━━━━━━━━━━━━━━━━━━━━━━━━━━━━━━━━━━\u001b[0m \u001b[32m0.0/384.9 kB\u001b[0m \u001b[31m?\u001b[0m eta \u001b[36m-:--:--\u001b[0m"
     ]
    },
    {
     "name": "stdout",
     "output_type": "stream",
     "text": [
      "\r",
      "\u001b[2K     \u001b[90m━━━━━━━━━━━━━━━━━━━━━━━━━━━━━━━━━━━━━━\u001b[0m \u001b[32m384.9/384.9 kB\u001b[0m \u001b[31m48.5 MB/s\u001b[0m eta \u001b[36m0:00:00\u001b[0m\r\n",
      "\u001b[?25hRequirement already satisfied: certifi>=2021.10.8 in /opt/hostedtoolcache/Python/3.9.15/x64/lib/python3.9/site-packages (from selenium==4.6.0) (2022.9.24)\r\n",
      "Collecting trio-websocket~=0.9\r\n",
      "  Downloading trio_websocket-0.9.2-py3-none-any.whl (16 kB)\r\n"
     ]
    },
    {
     "name": "stdout",
     "output_type": "stream",
     "text": [
      "Collecting async-generator>=1.9\r\n",
      "  Downloading async_generator-1.10-py3-none-any.whl (18 kB)\r\n"
     ]
    },
    {
     "name": "stdout",
     "output_type": "stream",
     "text": [
      "Collecting sortedcontainers\r\n"
     ]
    },
    {
     "name": "stdout",
     "output_type": "stream",
     "text": [
      "  Downloading sortedcontainers-2.4.0-py2.py3-none-any.whl (29 kB)\r\n",
      "Requirement already satisfied: attrs>=19.2.0 in /opt/hostedtoolcache/Python/3.9.15/x64/lib/python3.9/site-packages (from trio~=0.17->selenium==4.6.0) (22.1.0)\r\n",
      "Collecting outcome\r\n",
      "  Downloading outcome-1.2.0-py2.py3-none-any.whl (9.7 kB)\r\n"
     ]
    },
    {
     "name": "stdout",
     "output_type": "stream",
     "text": [
      "Collecting exceptiongroup>=1.0.0rc9\r\n",
      "  Downloading exceptiongroup-1.0.4-py3-none-any.whl (14 kB)\r\n"
     ]
    },
    {
     "name": "stdout",
     "output_type": "stream",
     "text": [
      "Collecting sniffio\r\n",
      "  Downloading sniffio-1.3.0-py3-none-any.whl (10 kB)\r\n",
      "Requirement already satisfied: idna in /opt/hostedtoolcache/Python/3.9.15/x64/lib/python3.9/site-packages (from trio~=0.17->selenium==4.6.0) (3.4)\r\n",
      "Collecting wsproto>=0.14\r\n",
      "  Downloading wsproto-1.2.0-py3-none-any.whl (24 kB)\r\n"
     ]
    },
    {
     "name": "stdout",
     "output_type": "stream",
     "text": [
      "Collecting PySocks!=1.5.7,<2.0,>=1.5.6\r\n",
      "  Downloading PySocks-1.7.1-py3-none-any.whl (16 kB)\r\n"
     ]
    },
    {
     "name": "stdout",
     "output_type": "stream",
     "text": [
      "Collecting h11<1,>=0.9.0\r\n",
      "  Downloading h11-0.14.0-py3-none-any.whl (58 kB)\r\n",
      "\u001b[?25l     \u001b[90m━━━━━━━━━━━━━━━━━━━━━━━━━━━━━━━━━━━━━━━━\u001b[0m \u001b[32m0.0/58.3 kB\u001b[0m \u001b[31m?\u001b[0m eta \u001b[36m-:--:--\u001b[0m"
     ]
    },
    {
     "name": "stdout",
     "output_type": "stream",
     "text": [
      "\r",
      "\u001b[2K     \u001b[90m━━━━━━━━━━━━━━━━━━━━━━━━━━━━━━━━━━━━━━━━\u001b[0m \u001b[32m58.3/58.3 kB\u001b[0m \u001b[31m10.2 MB/s\u001b[0m eta \u001b[36m0:00:00\u001b[0m\r\n",
      "\u001b[?25h"
     ]
    },
    {
     "name": "stdout",
     "output_type": "stream",
     "text": [
      "Installing collected packages: sortedcontainers, sniffio, PySocks, outcome, h11, exceptiongroup, async-generator, wsproto, trio, trio-websocket, selenium\r\n"
     ]
    },
    {
     "name": "stdout",
     "output_type": "stream",
     "text": [
      "Successfully installed PySocks-1.7.1 async-generator-1.10 exceptiongroup-1.0.4 h11-0.14.0 outcome-1.2.0 selenium-4.6.0 sniffio-1.3.0 sortedcontainers-2.4.0 trio-0.22.0 trio-websocket-0.9.2 wsproto-1.2.0\r\n"
     ]
    },
    {
     "name": "stdout",
     "output_type": "stream",
     "text": [
      "\r\n",
      "\u001b[1m[\u001b[0m\u001b[34;49mnotice\u001b[0m\u001b[1;39;49m]\u001b[0m\u001b[39;49m A new release of pip available: \u001b[0m\u001b[31;49m22.3\u001b[0m\u001b[39;49m -> \u001b[0m\u001b[32;49m22.3.1\u001b[0m\r\n",
      "\u001b[1m[\u001b[0m\u001b[34;49mnotice\u001b[0m\u001b[1;39;49m]\u001b[0m\u001b[39;49m To update, run: \u001b[0m\u001b[32;49mpip install --upgrade pip\u001b[0m\r\n"
     ]
    },
    {
     "name": "stdout",
     "output_type": "stream",
     "text": [
      "Collecting webdriver-manager==3.8.5\r\n",
      "  Downloading webdriver_manager-3.8.5-py2.py3-none-any.whl (27 kB)\r\n"
     ]
    },
    {
     "name": "stdout",
     "output_type": "stream",
     "text": [
      "Requirement already satisfied: packaging in /opt/hostedtoolcache/Python/3.9.15/x64/lib/python3.9/site-packages (from webdriver-manager==3.8.5) (21.3)\r\n",
      "Requirement already satisfied: tqdm in /opt/hostedtoolcache/Python/3.9.15/x64/lib/python3.9/site-packages (from webdriver-manager==3.8.5) (4.64.1)\r\n",
      "Requirement already satisfied: requests in /opt/hostedtoolcache/Python/3.9.15/x64/lib/python3.9/site-packages (from webdriver-manager==3.8.5) (2.28.1)\r\n",
      "Collecting python-dotenv\r\n"
     ]
    },
    {
     "name": "stdout",
     "output_type": "stream",
     "text": [
      "  Downloading python_dotenv-0.21.0-py3-none-any.whl (18 kB)\r\n",
      "Requirement already satisfied: pyparsing!=3.0.5,>=2.0.2 in /opt/hostedtoolcache/Python/3.9.15/x64/lib/python3.9/site-packages (from packaging->webdriver-manager==3.8.5) (3.0.9)\r\n",
      "Requirement already satisfied: charset-normalizer<3,>=2 in /opt/hostedtoolcache/Python/3.9.15/x64/lib/python3.9/site-packages (from requests->webdriver-manager==3.8.5) (2.1.1)\r\n",
      "Requirement already satisfied: certifi>=2017.4.17 in /opt/hostedtoolcache/Python/3.9.15/x64/lib/python3.9/site-packages (from requests->webdriver-manager==3.8.5) (2022.9.24)\r\n",
      "Requirement already satisfied: urllib3<1.27,>=1.21.1 in /opt/hostedtoolcache/Python/3.9.15/x64/lib/python3.9/site-packages (from requests->webdriver-manager==3.8.5) (1.26.12)\r\n",
      "Requirement already satisfied: idna<4,>=2.5 in /opt/hostedtoolcache/Python/3.9.15/x64/lib/python3.9/site-packages (from requests->webdriver-manager==3.8.5) (3.4)\r\n"
     ]
    },
    {
     "name": "stdout",
     "output_type": "stream",
     "text": [
      "Installing collected packages: python-dotenv, webdriver-manager\r\n"
     ]
    },
    {
     "name": "stdout",
     "output_type": "stream",
     "text": [
      "Successfully installed python-dotenv-0.21.0 webdriver-manager-3.8.5\r\n"
     ]
    },
    {
     "name": "stdout",
     "output_type": "stream",
     "text": [
      "\r\n",
      "\u001b[1m[\u001b[0m\u001b[34;49mnotice\u001b[0m\u001b[1;39;49m]\u001b[0m\u001b[39;49m A new release of pip available: \u001b[0m\u001b[31;49m22.3\u001b[0m\u001b[39;49m -> \u001b[0m\u001b[32;49m22.3.1\u001b[0m\r\n",
      "\u001b[1m[\u001b[0m\u001b[34;49mnotice\u001b[0m\u001b[1;39;49m]\u001b[0m\u001b[39;49m To update, run: \u001b[0m\u001b[32;49mpip install --upgrade pip\u001b[0m\r\n"
     ]
    }
   ],
   "source": [
    "!pip3 install selenium==4.6.0\n",
    "!pip3 install webdriver-manager==3.8.5"
   ]
  },
  {
   "cell_type": "code",
   "execution_count": 3,
   "id": "dd88fd9a",
   "metadata": {
    "execution": {
     "iopub.execute_input": "2022-11-23T06:12:11.631984Z",
     "iopub.status.busy": "2022-11-23T06:12:11.631494Z",
     "iopub.status.idle": "2022-11-23T06:12:12.394155Z",
     "shell.execute_reply": "2022-11-23T06:12:12.392857Z"
    },
    "jupyter": {
     "source_hidden": true
    },
    "papermill": {
     "duration": 0.776577,
     "end_time": "2022-11-23T06:12:12.396831",
     "exception": false,
     "start_time": "2022-11-23T06:12:11.620254",
     "status": "completed"
    },
    "tags": []
   },
   "outputs": [
    {
     "name": "stderr",
     "output_type": "stream",
     "text": [
      "\r",
      "[WDM] - Downloading:   0%|          | 0.00/7.26M [00:00<?, ?B/s]"
     ]
    },
    {
     "name": "stderr",
     "output_type": "stream",
     "text": [
      "\r",
      "[WDM] - Downloading: 100%|██████████| 7.26M/7.26M [00:00<00:00, 109MB/s]"
     ]
    },
    {
     "name": "stderr",
     "output_type": "stream",
     "text": [
      "\n"
     ]
    }
   ],
   "source": [
    "from selenium import webdriver\n",
    "from selenium.webdriver.common.by import By\n",
    "\n",
    "from webdriver_manager.chrome import ChromeDriverManager\n",
    "from webdriver_manager.core.utils import ChromeType\n",
    "from selenium.webdriver.chrome.options import Options\n",
    "from selenium.webdriver.chrome.service import Service\n",
    "\n",
    "import os\n",
    "\n",
    "from IPython import display\n",
    "from base64 import b64decode\n",
    "\n",
    "chrome_service = Service(ChromeDriverManager().install())"
   ]
  },
  {
   "cell_type": "code",
   "execution_count": 4,
   "id": "487b68bc",
   "metadata": {
    "execution": {
     "iopub.execute_input": "2022-11-23T06:12:12.421118Z",
     "iopub.status.busy": "2022-11-23T06:12:12.420229Z",
     "iopub.status.idle": "2022-11-23T06:12:12.425372Z",
     "shell.execute_reply": "2022-11-23T06:12:12.424409Z"
    },
    "jupyter": {
     "source_hidden": true
    },
    "papermill": {
     "duration": 0.020633,
     "end_time": "2022-11-23T06:12:12.428038",
     "exception": false,
     "start_time": "2022-11-23T06:12:12.407405",
     "status": "completed"
    },
    "tags": []
   },
   "outputs": [],
   "source": [
    "# Get environment variables\n",
    "IS_GITHUB_ACTION = os.getenv('IS_GITHUB_ACTION')"
   ]
  },
  {
   "cell_type": "code",
   "execution_count": 5,
   "id": "42ed152f",
   "metadata": {
    "execution": {
     "iopub.execute_input": "2022-11-23T06:12:12.449790Z",
     "iopub.status.busy": "2022-11-23T06:12:12.449258Z",
     "iopub.status.idle": "2022-11-23T06:12:12.455247Z",
     "shell.execute_reply": "2022-11-23T06:12:12.454208Z"
    },
    "jupyter": {
     "source_hidden": true
    },
    "papermill": {
     "duration": 0.019658,
     "end_time": "2022-11-23T06:12:12.458078",
     "exception": false,
     "start_time": "2022-11-23T06:12:12.438420",
     "status": "completed"
    },
    "tags": []
   },
   "outputs": [],
   "source": [
    "chrome_options = Options()\n",
    "if IS_GITHUB_ACTION:\n",
    "    options = [\n",
    "        \"--headless\",\n",
    "        \"--disable-gpu\",\n",
    "        \"--window-size=1920,1080\",\n",
    "        \"--ignore-certificate-errors\",\n",
    "        \"--disable-extensions\",\n",
    "        \"--no-sandbox\",\n",
    "        \"--disable-dev-shm-usage\"\n",
    "    ]\n",
    "    user_agent = 'Mozilla/5.0 (X11; Linux x86_64) AppleWebKit/537.36 (KHTML, like Gecko) Chrome/60.0.3112.50 Safari/537.36'    \n",
    "    chrome_options.add_argument('user-agent={0}'.format(user_agent))\n",
    "    for option in options:\n",
    "        chrome_options.add_argument(option)"
   ]
  },
  {
   "cell_type": "markdown",
   "id": "33226acb",
   "metadata": {
    "papermill": {
     "duration": 0.009302,
     "end_time": "2022-11-23T06:12:12.477320",
     "exception": false,
     "start_time": "2022-11-23T06:12:12.468018",
     "status": "completed"
    },
    "tags": []
   },
   "source": [
    "https://stackoverflow.com/a/54433282\n",
    "\n",
    "Some sites require user agent field in request header"
   ]
  },
  {
   "cell_type": "code",
   "execution_count": 6,
   "id": "48efc479",
   "metadata": {
    "execution": {
     "iopub.execute_input": "2022-11-23T06:12:12.501774Z",
     "iopub.status.busy": "2022-11-23T06:12:12.501030Z",
     "iopub.status.idle": "2022-11-23T06:12:12.660113Z",
     "shell.execute_reply": "2022-11-23T06:12:12.658859Z"
    },
    "jupyter": {
     "source_hidden": true
    },
    "papermill": {
     "duration": 0.172466,
     "end_time": "2022-11-23T06:12:12.662864",
     "exception": false,
     "start_time": "2022-11-23T06:12:12.490398",
     "status": "completed"
    },
    "tags": []
   },
   "outputs": [
    {
     "name": "stdout",
     "output_type": "stream",
     "text": [
      "total 2220\r\n",
      "drwxr-xr-x 5 runner docker   4096 Nov 23 06:11  .\r\n",
      "drwxr-xr-x 3 runner docker   4096 Nov 23 06:11  ..\r\n",
      "drwxr-xr-x 8 runner docker   4096 Nov 23 06:11  .git\r\n",
      "drwxr-xr-x 3 runner docker   4096 Nov 23 06:11  .github\r\n",
      "-rw-r--r-- 1 runner docker   7741 Nov 23 06:11  .gitignore\r\n",
      "-rw-r--r-- 1 runner docker 498879 Nov 23 06:11 'Asiana covid info crawler.ipynb'\r\n",
      "-rw-r--r-- 1 runner docker  11895 Nov 23 06:11 'Hotels combine crawler.ipynb'\r\n",
      "-rw-r--r-- 1 runner docker   1065 Nov 23 06:11  LICENSE\r\n",
      "-rw-r--r-- 1 runner docker    856 Nov 23 06:11  README.md\r\n",
      "-rw-r--r-- 1 runner docker 213142 Nov 23 06:11 'Skyscanner covid info crawler.ipynb'\r\n",
      "-rw-r--r-- 1 runner docker 767504 Nov 23 06:11  covid.skyscanner.json\r\n",
      "-rw-r--r-- 1 runner docker 727948 Nov 23 06:11  covid.skyscanner.vaccinated.json\r\n",
      "drwxr-xr-x 4 runner docker   4096 Nov 23 06:11  crawl-venv\r\n",
      "-rw-r--r-- 1 runner docker    202 Nov 23 06:11  index.py\r\n",
      "-rw-r--r-- 1 runner docker    504 Nov 23 06:11  requirements.txt\r\n"
     ]
    }
   ],
   "source": [
    "!ls -al"
   ]
  },
  {
   "cell_type": "code",
   "execution_count": 7,
   "id": "9e0ee434",
   "metadata": {
    "execution": {
     "iopub.execute_input": "2022-11-23T06:12:12.687278Z",
     "iopub.status.busy": "2022-11-23T06:12:12.686446Z",
     "iopub.status.idle": "2022-11-23T06:12:12.842537Z",
     "shell.execute_reply": "2022-11-23T06:12:12.841262Z"
    },
    "jupyter": {
     "source_hidden": true
    },
    "papermill": {
     "duration": 0.170769,
     "end_time": "2022-11-23T06:12:12.845647",
     "exception": false,
     "start_time": "2022-11-23T06:12:12.674878",
     "status": "completed"
    },
    "tags": []
   },
   "outputs": [
    {
     "name": "stdout",
     "output_type": "stream",
     "text": [
      "/home/runner/work/python-data-crawler/python-data-crawler\r\n"
     ]
    }
   ],
   "source": [
    "!pwd"
   ]
  },
  {
   "cell_type": "code",
   "execution_count": 8,
   "id": "39f25512",
   "metadata": {
    "execution": {
     "iopub.execute_input": "2022-11-23T06:12:12.873538Z",
     "iopub.status.busy": "2022-11-23T06:12:12.873085Z",
     "iopub.status.idle": "2022-11-23T06:12:13.027779Z",
     "shell.execute_reply": "2022-11-23T06:12:13.026260Z"
    },
    "jupyter": {
     "source_hidden": true
    },
    "papermill": {
     "duration": 0.169416,
     "end_time": "2022-11-23T06:12:13.030488",
     "exception": false,
     "start_time": "2022-11-23T06:12:12.861072",
     "status": "completed"
    },
    "tags": []
   },
   "outputs": [],
   "source": [
    "!cd"
   ]
  },
  {
   "cell_type": "code",
   "execution_count": 9,
   "id": "3b352b9e",
   "metadata": {
    "execution": {
     "iopub.execute_input": "2022-11-23T06:12:13.052370Z",
     "iopub.status.busy": "2022-11-23T06:12:13.051926Z",
     "iopub.status.idle": "2022-11-23T06:12:13.064337Z",
     "shell.execute_reply": "2022-11-23T06:12:13.063027Z"
    },
    "jupyter": {
     "source_hidden": true
    },
    "papermill": {
     "duration": 0.026113,
     "end_time": "2022-11-23T06:12:13.066681",
     "exception": false,
     "start_time": "2022-11-23T06:12:13.040568",
     "status": "completed"
    },
    "tags": []
   },
   "outputs": [],
   "source": [
    "my_dir=!pwd"
   ]
  },
  {
   "cell_type": "code",
   "execution_count": 10,
   "id": "43c5435a",
   "metadata": {
    "execution": {
     "iopub.execute_input": "2022-11-23T06:12:13.093781Z",
     "iopub.status.busy": "2022-11-23T06:12:13.092595Z",
     "iopub.status.idle": "2022-11-23T06:12:13.106816Z",
     "shell.execute_reply": "2022-11-23T06:12:13.105736Z"
    },
    "jupyter": {
     "source_hidden": true
    },
    "papermill": {
     "duration": 0.032668,
     "end_time": "2022-11-23T06:12:13.108914",
     "exception": false,
     "start_time": "2022-11-23T06:12:13.076246",
     "status": "completed"
    },
    "tags": []
   },
   "outputs": [
    {
     "data": {
      "text/plain": [
       "'/home/runner/work/python-data-crawler/python-data-crawler'"
      ]
     },
     "execution_count": 10,
     "metadata": {},
     "output_type": "execute_result"
    }
   ],
   "source": [
    "my_dir[0]"
   ]
  },
  {
   "cell_type": "markdown",
   "id": "ab2d5dd6",
   "metadata": {
    "papermill": {
     "duration": 0.009958,
     "end_time": "2022-11-23T06:12:13.130172",
     "exception": false,
     "start_time": "2022-11-23T06:12:13.120214",
     "status": "completed"
    },
    "tags": []
   },
   "source": [
    "```\n",
    "## for windows\n",
    "browser = webdriver.Chrome(f'{my_dir[0]}\\\\chromedriver.exe')\n",
    "```"
   ]
  },
  {
   "cell_type": "code",
   "execution_count": 11,
   "id": "d62974ab",
   "metadata": {
    "execution": {
     "iopub.execute_input": "2022-11-23T06:12:13.187255Z",
     "iopub.status.busy": "2022-11-23T06:12:13.186682Z",
     "iopub.status.idle": "2022-11-23T06:12:17.258896Z",
     "shell.execute_reply": "2022-11-23T06:12:17.257045Z"
    },
    "jupyter": {
     "source_hidden": true
    },
    "papermill": {
     "duration": 4.121919,
     "end_time": "2022-11-23T06:12:17.262660",
     "exception": false,
     "start_time": "2022-11-23T06:12:13.140741",
     "status": "completed"
    },
    "tags": []
   },
   "outputs": [],
   "source": [
    "# browser = webdriver.Chrome(f'{my_dir[0]}/chromedriver')    \n",
    "browser = webdriver.Chrome(service=chrome_service, options=chrome_options)\n",
    "browser.set_window_size(1920, 1080)\n",
    "browser.get('https://flyasiana.com/C/KR/KO/contents/entry-restrictions')\n",
    "# browser.get('https://www.skyscanner.co.kr/travel-restrictions/%EB%8C%80%EB%A7%8C/29475323?origin=29475329#MapContainer')"
   ]
  },
  {
   "cell_type": "code",
   "execution_count": 12,
   "id": "33164325",
   "metadata": {
    "execution": {
     "iopub.execute_input": "2022-11-23T06:12:17.288547Z",
     "iopub.status.busy": "2022-11-23T06:12:17.288152Z",
     "iopub.status.idle": "2022-11-23T06:12:17.708877Z",
     "shell.execute_reply": "2022-11-23T06:12:17.708074Z"
    },
    "jupyter": {
     "source_hidden": true
    },
    "papermill": {
     "duration": 0.436332,
     "end_time": "2022-11-23T06:12:17.712322",
     "exception": false,
     "start_time": "2022-11-23T06:12:17.275990",
     "status": "completed"
    },
    "tags": []
   },
   "outputs": [
    {
     "data": {
      "image/png": "[encoded data removed]",
      "text/plain": [
       "<IPython.core.display.Image object>"
      ]
     },
     "execution_count": 12,
     "metadata": {},
     "output_type": "execute_result"
    }
   ],
   "source": [
    "display.Image(b64decode(browser.find_element(By.TAG_NAME, 'body').screenshot_as_base64))"
   ]
  },
  {
   "cell_type": "code",
   "execution_count": 13,
   "id": "56cbc4f3",
   "metadata": {
    "execution": {
     "iopub.execute_input": "2022-11-23T06:12:17.740392Z",
     "iopub.status.busy": "2022-11-23T06:12:17.740003Z",
     "iopub.status.idle": "2022-11-23T06:12:17.780694Z",
     "shell.execute_reply": "2022-11-23T06:12:17.779487Z"
    },
    "jupyter": {
     "source_hidden": true
    },
    "papermill": {
     "duration": 0.057616,
     "end_time": "2022-11-23T06:12:17.783259",
     "exception": false,
     "start_time": "2022-11-23T06:12:17.725643",
     "status": "completed"
    },
    "tags": []
   },
   "outputs": [
    {
     "data": {
      "text/plain": [
       "'국가별 입국 제한 안내'"
      ]
     },
     "execution_count": 13,
     "metadata": {},
     "output_type": "execute_result"
    }
   ],
   "source": [
    "browser.find_element(By.CSS_SELECTOR, '#careplus > div > div.main_site > h3').text"
   ]
  },
  {
   "cell_type": "markdown",
   "id": "e7d5a5b8",
   "metadata": {
    "papermill": {
     "duration": 0.012944,
     "end_time": "2022-11-23T06:12:17.810093",
     "exception": false,
     "start_time": "2022-11-23T06:12:17.797149",
     "status": "completed"
    },
    "tags": []
   },
   "source": [
    "### Visualize crawling target as image"
   ]
  },
  {
   "cell_type": "code",
   "execution_count": 14,
   "id": "d3e3f5e8",
   "metadata": {
    "execution": {
     "iopub.execute_input": "2022-11-23T06:12:17.837815Z",
     "iopub.status.busy": "2022-11-23T06:12:17.837159Z",
     "iopub.status.idle": "2022-11-23T06:12:17.919248Z",
     "shell.execute_reply": "2022-11-23T06:12:17.918513Z"
    },
    "jupyter": {
     "source_hidden": true
    },
    "papermill": {
     "duration": 0.098784,
     "end_time": "2022-11-23T06:12:17.921619",
     "exception": false,
     "start_time": "2022-11-23T06:12:17.822835",
     "status": "completed"
    },
    "tags": []
   },
   "outputs": [
    {
     "data": {
      "image/png": "[encoded data removed]",
      "text/plain": [
       "<IPython.core.display.Image object>"
      ]
     },
     "execution_count": 14,
     "metadata": {},
     "output_type": "execute_result"
    }
   ],
   "source": [
    "display.Image(b64decode(browser.find_element(By.CSS_SELECTOR, '#careplus > div > div.cms_wrap > div.cms-cont > div').screenshot_as_base64))\n",
    "\n",
    "# browser.find_element_by_css_selector('#careplus > div > div.cms_wrap > div.cms-cont > div').screenshot_as_base64"
   ]
  },
  {
   "cell_type": "markdown",
   "id": "a8cf88be",
   "metadata": {
    "papermill": {
     "duration": 0.012787,
     "end_time": "2022-11-23T06:12:17.948429",
     "exception": false,
     "start_time": "2022-11-23T06:12:17.935642",
     "status": "completed"
    },
    "tags": []
   },
   "source": [
    "### Crawling country list"
   ]
  },
  {
   "cell_type": "code",
   "execution_count": 15,
   "id": "dceb94bc",
   "metadata": {
    "execution": {
     "iopub.execute_input": "2022-11-23T06:12:17.977665Z",
     "iopub.status.busy": "2022-11-23T06:12:17.976885Z",
     "iopub.status.idle": "2022-11-23T06:12:18.206057Z",
     "shell.execute_reply": "2022-11-23T06:12:18.205151Z"
    },
    "jupyter": {
     "source_hidden": true
    },
    "papermill": {
     "duration": 0.247189,
     "end_time": "2022-11-23T06:12:18.208189",
     "exception": false,
     "start_time": "2022-11-23T06:12:17.961000",
     "status": "completed"
    },
    "tags": []
   },
   "outputs": [
    {
     "data": {
      "text/plain": [
       "['일본', '중국', '홍콩', '싱가포르', '인도네시아', '인도', '필리핀', '미국', '사이판']"
      ]
     },
     "execution_count": 15,
     "metadata": {},
     "output_type": "execute_result"
    }
   ],
   "source": [
    "countryTable = browser.find_element(By.CSS_SELECTOR, '#careplus > div > div.cms_wrap > div.cms-cont > div')\\\n",
    "    .find_elements(By.CSS_SELECTOR, 'table')[0]\n",
    "# for tr in trArry:\n",
    "#     print(tr.get_attribute('innerHTML'))\n",
    "# countryTable.get_attribute('innerHTML')\n",
    "# for tr in countryTable.find_elements_by_tag_name('tr'):\n",
    "#     print(tr.text)\n",
    "    \n",
    "countryName = [x.text for x in countryTable.find_elements(By.TAG_NAME, 'tr')][1:]\n",
    "countryName\n",
    "# trArry.find_elents_by_css_selector('tr')"
   ]
  },
  {
   "cell_type": "markdown",
   "id": "e32eda39",
   "metadata": {
    "papermill": {
     "duration": 0.012329,
     "end_time": "2022-11-23T06:12:18.234736",
     "exception": false,
     "start_time": "2022-11-23T06:12:18.222407",
     "status": "completed"
    },
    "tags": []
   },
   "source": [
    "### Crawl that country Covid-19 entry restrictions info"
   ]
  },
  {
   "cell_type": "code",
   "execution_count": 16,
   "id": "26b92c8a",
   "metadata": {
    "execution": {
     "iopub.execute_input": "2022-11-23T06:12:18.263448Z",
     "iopub.status.busy": "2022-11-23T06:12:18.262298Z",
     "iopub.status.idle": "2022-11-23T06:12:18.279141Z",
     "shell.execute_reply": "2022-11-23T06:12:18.278140Z"
    },
    "jupyter": {
     "source_hidden": true
    },
    "papermill": {
     "duration": 0.034185,
     "end_time": "2022-11-23T06:12:18.281608",
     "exception": false,
     "start_time": "2022-11-23T06:12:18.247423",
     "status": "completed"
    },
    "tags": []
   },
   "outputs": [],
   "source": [
    "countryInfo = browser.find_element(By.CSS_SELECTOR, '#careplus > div > div.cms_wrap > div.cms-cont > div > table:nth-child(2) > tbody')\n",
    "\n",
    "#.get_attribute('innerHTML')\n",
    "#.text\n",
    "\n"
   ]
  },
  {
   "cell_type": "code",
   "execution_count": 17,
   "id": "c370249d",
   "metadata": {
    "execution": {
     "iopub.execute_input": "2022-11-23T06:12:18.311337Z",
     "iopub.status.busy": "2022-11-23T06:12:18.310771Z",
     "iopub.status.idle": "2022-11-23T06:12:18.315153Z",
     "shell.execute_reply": "2022-11-23T06:12:18.314286Z"
    },
    "jupyter": {
     "source_hidden": true
    },
    "papermill": {
     "duration": 0.022759,
     "end_time": "2022-11-23T06:12:18.317042",
     "exception": false,
     "start_time": "2022-11-23T06:12:18.294283",
     "status": "completed"
    },
    "tags": []
   },
   "outputs": [],
   "source": [
    "tableResult = []"
   ]
  },
  {
   "cell_type": "code",
   "execution_count": 18,
   "id": "4573f99b",
   "metadata": {
    "execution": {
     "iopub.execute_input": "2022-11-23T06:12:18.345761Z",
     "iopub.status.busy": "2022-11-23T06:12:18.345065Z",
     "iopub.status.idle": "2022-11-23T06:12:21.089271Z",
     "shell.execute_reply": "2022-11-23T06:12:21.087731Z"
    },
    "jupyter": {
     "source_hidden": true
    },
    "papermill": {
     "duration": 2.762006,
     "end_time": "2022-11-23T06:12:21.092025",
     "exception": false,
     "start_time": "2022-11-23T06:12:18.330019",
     "status": "completed"
    },
    "tags": []
   },
   "outputs": [
    {
     "name": "stdout",
     "output_type": "stream",
     "text": [
      "\n",
      "일본\n",
      ", X, O, O\n",
      "(백신 3차 접종 X), [VISIT JAPAN WEB], "
     ]
    },
    {
     "name": "stdout",
     "output_type": "stream",
     "text": [
      "https://vjw-lp.digital.go.jp/\n",
      "△\n",
      "(출발 지역별 상이), [일본 정부 안내사항], https://www.mofa.go.jp/ca/fna/page4e_001053.html\n",
      "\n",
      "중국\n",
      ", "
     ]
    },
    {
     "name": "stdout",
     "output_type": "stream",
     "text": [
      "O, X, O, O\n",
      "[건강 QR 코드]\n",
      "(녹색 QR 필수)\n",
      "[세관신고서], https://hrhk.cs.mfa.gov.cn/H5/\n",
      "7일\n",
      "(지역별 상이), "
     ]
    },
    {
     "name": "stdout",
     "output_type": "stream",
     "text": [
      "[주한중국대사관 안내사항], http://kr.china-embassy.gov.cn/kor/lsfw/\n",
      "\n",
      "홍콩\n",
      ", △\n",
      "[안내사항], https://www.immd.gov.hk/eng/services/visas/visit-transit/visit-visa-entry-permit.html\n",
      "O\n",
      "(홍콩 거주자 제외), O, "
     ]
    },
    {
     "name": "stdout",
     "output_type": "stream",
     "text": [
      "[건강상태신고서]\n",
      "(녹색 QR 필수), https://www.chp.gov.hk/hdf/\n",
      "X, [홍콩 정부 안내사항], https://www.coronavirus.gov.hk/eng/inbound-travel.html\n",
      "\n",
      "싱가포르\n",
      ", "
     ]
    },
    {
     "name": "stdout",
     "output_type": "stream",
     "text": [
      "X, O, X\n",
      "(백신 미접종자 O), [SG Arrival Card], https://eservices.ica.gov.sg/sgarrivalcard/\n",
      "X, "
     ]
    },
    {
     "name": "stdout",
     "output_type": "stream",
     "text": [
      "[싱가포르 정부 안내사항], https://www.ica.gov.sg/enter-transit-depart/entering-singapore\n",
      "\n",
      "인도네시아\n",
      ", △, O, X, "
     ]
    },
    {
     "name": "stdout",
     "output_type": "stream",
     "text": [
      "[Peduli Lindungi]\n",
      "[전자세관신고], https://www.pedulilindungi.id/\n",
      "X, 건강상 미접종자\n",
      "음성확인서 필요 (5일 격리)\n",
      "[인도네시아 정부 안내사항], https://www.imigrasi.go.id/en/covid19/#1621501651158-8e7bbdc3-bbb8\n",
      "\n",
      "인도\n",
      ", "
     ]
    },
    {
     "name": "stdout",
     "output_type": "stream",
     "text": [
      "△, 백신접종증명서 또는 음성확인서 필요\n",
      "(Air Suvidha에 사전 등록 필요), [Air Suvidha], https://www.newdelhiairport.in/airsuvidha/apho-registration\n",
      "△\n",
      "(지역별 상이), [인도 정부 안내사항], "
     ]
    },
    {
     "name": "stdout",
     "output_type": "stream",
     "text": [
      "https://www.mohfw.gov.in/\n",
      "\n",
      "필리핀\n",
      ", △\n",
      "[안내사항], https://dfa.gov.ph/list-of-countries-for-21-day-visa\n",
      "O, O\n",
      "(백신 3차 접종 X), "
     ]
    },
    {
     "name": "stdout",
     "output_type": "stream",
     "text": [
      "[earrival card], https://www.onehealthpass.com.ph/\n",
      "5일\n",
      "(백신 미접종자), 격리 비용 자부담\n",
      "[필리핀 관광청 안내], https://philippines.travel/safetrip#inboundadvisory\n",
      "\n",
      "미국\n",
      ", X, "
     ]
    },
    {
     "name": "stdout",
     "output_type": "stream",
     "text": [
      "O\n",
      "(시민권자, 영주권자 이민비자 제외), X, X, X, [질병통제센터 안내사항], https://www.cdc.gov/coronavirus/2019-ncov/travelers/international-travel-during-covid19.html\n"
     ]
    },
    {
     "name": "stdout",
     "output_type": "stream",
     "text": [
      "\n",
      "사이판\n",
      ", X, X, X, "
     ]
    }
   ],
   "source": [
    "idx = 0;\n",
    "for tr in countryInfo.find_elements(By.TAG_NAME, 'tr'):\n",
    "    print(f'\\n{countryName[idx]}')\n",
    "#     print(tr.text)\n",
    "    row = []\n",
    "    for td in tr.find_elements(By.TAG_NAME, 'td'):\n",
    "        text = td.text\n",
    "        print(td.text, end=\", \")\n",
    "        try:\n",
    "#             print(td.get_attribute('innerHTML'), 'test', )\n",
    "#             aTag = td.find_element_by_tag_name('a')\n",
    "#             if aTag is not None:\n",
    "#                 print(a.get_attribute('href'))\n",
    "            print(td.find_element(By.TAG_NAME, 'a').get_attribute('href'))\n",
    "            text = text + ' ' + td.find_element(By.TAG_NAME, 'a').get_attribute('href')\n",
    "        except:\n",
    "            print('', end=\"\")\n",
    "        row.append(text)\n",
    "    idx += 1\n",
    "    tableResult.append(row)"
   ]
  },
  {
   "cell_type": "code",
   "execution_count": 19,
   "id": "764ba390",
   "metadata": {
    "execution": {
     "iopub.execute_input": "2022-11-23T06:12:21.121929Z",
     "iopub.status.busy": "2022-11-23T06:12:21.121617Z",
     "iopub.status.idle": "2022-11-23T06:12:23.048707Z",
     "shell.execute_reply": "2022-11-23T06:12:23.047395Z"
    },
    "jupyter": {
     "source_hidden": true
    },
    "papermill": {
     "duration": 1.946147,
     "end_time": "2022-11-23T06:12:23.051582",
     "exception": false,
     "start_time": "2022-11-23T06:12:21.105435",
     "status": "completed"
    },
    "tags": []
   },
   "outputs": [
    {
     "name": "stdout",
     "output_type": "stream",
     "text": [
      "Collecting tabletext==0.1\r\n"
     ]
    },
    {
     "name": "stdout",
     "output_type": "stream",
     "text": [
      "  Downloading tabletext-0.1.tar.gz (6.1 kB)\r\n"
     ]
    },
    {
     "name": "stdout",
     "output_type": "stream",
     "text": [
      "  Preparing metadata (setup.py) ... \u001b[?25l-\b \berror\r\n",
      "  \u001b[1;31merror\u001b[0m: \u001b[1msubprocess-exited-with-error\u001b[0m\r\n",
      "  \r\n",
      "  \u001b[31m×\u001b[0m \u001b[32mpython setup.py egg_info\u001b[0m did not run successfully.\r\n",
      "  \u001b[31m│\u001b[0m exit code: \u001b[1;36m1\u001b[0m\r\n",
      "  \u001b[31m╰─>\u001b[0m \u001b[31m[1 lines of output]\u001b[0m\r\n",
      "  \u001b[31m   \u001b[0m error in tabletext setup command: use_2to3 is invalid.\r\n",
      "  \u001b[31m   \u001b[0m \u001b[31m[end of output]\u001b[0m\r\n",
      "  \r\n",
      "  \u001b[1;35mnote\u001b[0m: This error originates from a subprocess, and is likely not a problem with pip.\r\n",
      "\u001b[1;31merror\u001b[0m: \u001b[1mmetadata-generation-failed\u001b[0m\r\n",
      "\r\n",
      "\u001b[31m×\u001b[0m Encountered error while generating package metadata.\r\n",
      "\u001b[31m╰─>\u001b[0m See above for output.\r\n",
      "\r\n",
      "\u001b[1;35mnote\u001b[0m: This is an issue with the package mentioned above, not pip.\r\n",
      "\u001b[1;36mhint\u001b[0m: See above for details.\r\n"
     ]
    },
    {
     "name": "stdout",
     "output_type": "stream",
     "text": [
      "\r\n",
      "\u001b[1m[\u001b[0m\u001b[34;49mnotice\u001b[0m\u001b[1;39;49m]\u001b[0m\u001b[39;49m A new release of pip available: \u001b[0m\u001b[31;49m22.3\u001b[0m\u001b[39;49m -> \u001b[0m\u001b[32;49m22.3.1\u001b[0m\r\n",
      "\u001b[1m[\u001b[0m\u001b[34;49mnotice\u001b[0m\u001b[1;39;49m]\u001b[0m\u001b[39;49m To update, run: \u001b[0m\u001b[32;49mpip install --upgrade pip\u001b[0m\r\n",
      "\u001b[?25h"
     ]
    }
   ],
   "source": [
    "!pip3 install tabletext==0.1"
   ]
  },
  {
   "cell_type": "code",
   "execution_count": 20,
   "id": "17bae695",
   "metadata": {
    "execution": {
     "iopub.execute_input": "2022-11-23T06:12:23.084192Z",
     "iopub.status.busy": "2022-11-23T06:12:23.083851Z",
     "iopub.status.idle": "2022-11-23T06:12:23.091238Z",
     "shell.execute_reply": "2022-11-23T06:12:23.090339Z"
    },
    "jupyter": {
     "source_hidden": true
    },
    "papermill": {
     "duration": 0.025718,
     "end_time": "2022-11-23T06:12:23.093435",
     "exception": false,
     "start_time": "2022-11-23T06:12:23.067717",
     "status": "completed"
    },
    "tags": []
   },
   "outputs": [
    {
     "data": {
      "text/plain": [
       "[['',\n",
       "  'X',\n",
       "  'O',\n",
       "  'O\\n(백신 3차 접종 X)',\n",
       "  '[VISIT JAPAN WEB] https://vjw-lp.digital.go.jp/',\n",
       "  '△\\n(출발 지역별 상이)',\n",
       "  '[일본 정부 안내사항] https://www.mofa.go.jp/ca/fna/page4e_001053.html'],\n",
       " ['',\n",
       "  'O',\n",
       "  'X',\n",
       "  'O',\n",
       "  'O\\n[건강 QR 코드]\\n(녹색 QR 필수)\\n[세관신고서] https://hrhk.cs.mfa.gov.cn/H5/',\n",
       "  '7일\\n(지역별 상이)',\n",
       "  '[주한중국대사관 안내사항] http://kr.china-embassy.gov.cn/kor/lsfw/'],\n",
       " ['',\n",
       "  '△\\n[안내사항] https://www.immd.gov.hk/eng/services/visas/visit-transit/visit-visa-entry-permit.html',\n",
       "  'O\\n(홍콩 거주자 제외)',\n",
       "  'O',\n",
       "  '[건강상태신고서]\\n(녹색 QR 필수) https://www.chp.gov.hk/hdf/',\n",
       "  'X',\n",
       "  '[홍콩 정부 안내사항] https://www.coronavirus.gov.hk/eng/inbound-travel.html'],\n",
       " ['',\n",
       "  'X',\n",
       "  'O',\n",
       "  'X\\n(백신 미접종자 O)',\n",
       "  '[SG Arrival Card] https://eservices.ica.gov.sg/sgarrivalcard/',\n",
       "  'X',\n",
       "  '[싱가포르 정부 안내사항] https://www.ica.gov.sg/enter-transit-depart/entering-singapore'],\n",
       " ['',\n",
       "  '△',\n",
       "  'O',\n",
       "  'X',\n",
       "  '[Peduli Lindungi]\\n[전자세관신고] https://www.pedulilindungi.id/',\n",
       "  'X',\n",
       "  '건강상 미접종자\\n음성확인서 필요 (5일 격리)\\n[인도네시아 정부 안내사항] https://www.imigrasi.go.id/en/covid19/#1621501651158-8e7bbdc3-bbb8'],\n",
       " ['',\n",
       "  '△',\n",
       "  '백신접종증명서 또는 음성확인서 필요\\n(Air Suvidha에 사전 등록 필요)',\n",
       "  '[Air Suvidha] https://www.newdelhiairport.in/airsuvidha/apho-registration',\n",
       "  '△\\n(지역별 상이)',\n",
       "  '[인도 정부 안내사항] https://www.mohfw.gov.in/'],\n",
       " ['',\n",
       "  '△\\n[안내사항] https://dfa.gov.ph/list-of-countries-for-21-day-visa',\n",
       "  'O',\n",
       "  'O\\n(백신 3차 접종 X)',\n",
       "  '[earrival card] https://www.onehealthpass.com.ph/',\n",
       "  '5일\\n(백신 미접종자)',\n",
       "  '격리 비용 자부담\\n[필리핀 관광청 안내] https://philippines.travel/safetrip#inboundadvisory'],\n",
       " ['',\n",
       "  'X',\n",
       "  'O\\n(시민권자, 영주권자 이민비자 제외)',\n",
       "  'X',\n",
       "  'X',\n",
       "  'X',\n",
       "  '[질병통제센터 안내사항] https://www.cdc.gov/coronavirus/2019-ncov/travelers/international-travel-during-covid19.html'],\n",
       " ['', 'X', 'X', 'X']]"
      ]
     },
     "execution_count": 20,
     "metadata": {},
     "output_type": "execute_result"
    }
   ],
   "source": [
    "tableResult"
   ]
  },
  {
   "cell_type": "markdown",
   "id": "d3fee2a6",
   "metadata": {
    "papermill": {
     "duration": 0.014325,
     "end_time": "2022-11-23T06:12:23.121740",
     "exception": false,
     "start_time": "2022-11-23T06:12:23.107415",
     "status": "completed"
    },
    "tags": []
   },
   "source": [
    "### Post processing\n",
    "\n",
    "- Add country name to each first col"
   ]
  },
  {
   "cell_type": "code",
   "execution_count": 21,
   "id": "1172b676",
   "metadata": {
    "execution": {
     "iopub.execute_input": "2022-11-23T06:12:23.152660Z",
     "iopub.status.busy": "2022-11-23T06:12:23.152087Z",
     "iopub.status.idle": "2022-11-23T06:12:23.158938Z",
     "shell.execute_reply": "2022-11-23T06:12:23.158031Z"
    },
    "jupyter": {
     "source_hidden": true
    },
    "papermill": {
     "duration": 0.024904,
     "end_time": "2022-11-23T06:12:23.161087",
     "exception": false,
     "start_time": "2022-11-23T06:12:23.136183",
     "status": "completed"
    },
    "tags": []
   },
   "outputs": [
    {
     "data": {
      "text/plain": [
       "['일본',\n",
       " 'X',\n",
       " 'O',\n",
       " 'O\\n(백신 3차 접종 X)',\n",
       " '[VISIT JAPAN WEB] https://vjw-lp.digital.go.jp/',\n",
       " '△\\n(출발 지역별 상이)',\n",
       " '[일본 정부 안내사항] https://www.mofa.go.jp/ca/fna/page4e_001053.html']"
      ]
     },
     "execution_count": 21,
     "metadata": {},
     "output_type": "execute_result"
    }
   ],
   "source": [
    "idx = 0\n",
    "for country in countryName:\n",
    "    tableResult[idx][0] = country\n",
    "    idx = idx + 1\n",
    "tableResult[0]"
   ]
  },
  {
   "cell_type": "markdown",
   "id": "73d7128b",
   "metadata": {
    "papermill": {
     "duration": 0.013486,
     "end_time": "2022-11-23T06:12:23.188161",
     "exception": false,
     "start_time": "2022-11-23T06:12:23.174675",
     "status": "completed"
    },
    "tags": []
   },
   "source": [
    "- Make each rows have same col count"
   ]
  },
  {
   "cell_type": "code",
   "execution_count": 22,
   "id": "65c9dbd6",
   "metadata": {
    "execution": {
     "iopub.execute_input": "2022-11-23T06:12:23.218560Z",
     "iopub.status.busy": "2022-11-23T06:12:23.218054Z",
     "iopub.status.idle": "2022-11-23T06:12:23.223822Z",
     "shell.execute_reply": "2022-11-23T06:12:23.222862Z"
    },
    "jupyter": {
     "source_hidden": true
    },
    "papermill": {
     "duration": 0.024048,
     "end_time": "2022-11-23T06:12:23.225962",
     "exception": false,
     "start_time": "2022-11-23T06:12:23.201914",
     "status": "completed"
    },
    "tags": []
   },
   "outputs": [
    {
     "data": {
      "text/plain": [
       "['인도',\n",
       " '△',\n",
       " '백신접종증명서 또는 음성확인서 필요\\n(Air Suvidha에 사전 등록 필요)',\n",
       " '[Air Suvidha] https://www.newdelhiairport.in/airsuvidha/apho-registration',\n",
       " '△\\n(지역별 상이)',\n",
       " '[인도 정부 안내사항] https://www.mohfw.gov.in/']"
      ]
     },
     "execution_count": 22,
     "metadata": {},
     "output_type": "execute_result"
    }
   ],
   "source": [
    "tableResult[5]"
   ]
  },
  {
   "cell_type": "code",
   "execution_count": 23,
   "id": "770a31d9",
   "metadata": {
    "execution": {
     "iopub.execute_input": "2022-11-23T06:12:23.257053Z",
     "iopub.status.busy": "2022-11-23T06:12:23.256443Z",
     "iopub.status.idle": "2022-11-23T06:12:23.262658Z",
     "shell.execute_reply": "2022-11-23T06:12:23.261772Z"
    },
    "jupyter": {
     "source_hidden": true
    },
    "papermill": {
     "duration": 0.024743,
     "end_time": "2022-11-23T06:12:23.264547",
     "exception": false,
     "start_time": "2022-11-23T06:12:23.239804",
     "status": "completed"
    },
    "tags": []
   },
   "outputs": [
    {
     "data": {
      "text/plain": [
       "['인도',\n",
       " '△',\n",
       " '백신접종증명서 또는 음성확인서 필요\\n(Air Suvidha에 사전 등록 필요)',\n",
       " '백신접종증명서 또는 음성확인서 필요\\n(Air Suvidha에 사전 등록 필요)',\n",
       " '[Air Suvidha] https://www.newdelhiairport.in/airsuvidha/apho-registration',\n",
       " '△\\n(지역별 상이)',\n",
       " '[인도 정부 안내사항] https://www.mohfw.gov.in/']"
      ]
     },
     "execution_count": 23,
     "metadata": {},
     "output_type": "execute_result"
    }
   ],
   "source": [
    "tableResult[5][2:2] = [tableResult[5][2]]\n",
    "tableResult[5]"
   ]
  },
  {
   "cell_type": "code",
   "execution_count": 24,
   "id": "083719da",
   "metadata": {
    "execution": {
     "iopub.execute_input": "2022-11-23T06:12:23.293838Z",
     "iopub.status.busy": "2022-11-23T06:12:23.293379Z",
     "iopub.status.idle": "2022-11-23T06:12:23.298580Z",
     "shell.execute_reply": "2022-11-23T06:12:23.297794Z"
    },
    "jupyter": {
     "source_hidden": true
    },
    "papermill": {
     "duration": 0.021933,
     "end_time": "2022-11-23T06:12:23.300247",
     "exception": false,
     "start_time": "2022-11-23T06:12:23.278314",
     "status": "completed"
    },
    "tags": []
   },
   "outputs": [
    {
     "data": {
      "text/plain": [
       "['사이판', 'X', 'X', 'X']"
      ]
     },
     "execution_count": 24,
     "metadata": {},
     "output_type": "execute_result"
    }
   ],
   "source": [
    "tableResult[8]"
   ]
  },
  {
   "cell_type": "code",
   "execution_count": 25,
   "id": "1e9f4169",
   "metadata": {
    "execution": {
     "iopub.execute_input": "2022-11-23T06:12:23.328408Z",
     "iopub.status.busy": "2022-11-23T06:12:23.328084Z",
     "iopub.status.idle": "2022-11-23T06:12:23.334229Z",
     "shell.execute_reply": "2022-11-23T06:12:23.333387Z"
    },
    "jupyter": {
     "source_hidden": true
    },
    "papermill": {
     "duration": 0.023471,
     "end_time": "2022-11-23T06:12:23.336548",
     "exception": false,
     "start_time": "2022-11-23T06:12:23.313077",
     "status": "completed"
    },
    "tags": []
   },
   "outputs": [
    {
     "data": {
      "text/plain": [
       "['사이판', 'X', 'O\\n(시민권자, 영주권자 이민비자 제외)', 'X', 'X', 'X']"
      ]
     },
     "execution_count": 25,
     "metadata": {},
     "output_type": "execute_result"
    }
   ],
   "source": [
    "tableResult[8][2:2] = [*tableResult[7][2:4]]\n",
    "tableResult[8]"
   ]
  },
  {
   "cell_type": "code",
   "execution_count": 26,
   "id": "7e8ff758",
   "metadata": {
    "execution": {
     "iopub.execute_input": "2022-11-23T06:12:23.369791Z",
     "iopub.status.busy": "2022-11-23T06:12:23.369119Z",
     "iopub.status.idle": "2022-11-23T06:12:23.375777Z",
     "shell.execute_reply": "2022-11-23T06:12:23.374761Z"
    },
    "jupyter": {
     "source_hidden": true
    },
    "papermill": {
     "duration": 0.025373,
     "end_time": "2022-11-23T06:12:23.377635",
     "exception": false,
     "start_time": "2022-11-23T06:12:23.352262",
     "status": "completed"
    },
    "tags": []
   },
   "outputs": [
    {
     "data": {
      "text/plain": [
       "['사이판',\n",
       " 'X',\n",
       " 'O\\n(시민권자, 영주권자 이민비자 제외)',\n",
       " 'X',\n",
       " 'X',\n",
       " 'X',\n",
       " '[질병통제센터 안내사항] https://www.cdc.gov/coronavirus/2019-ncov/travelers/international-travel-during-covid19.html']"
      ]
     },
     "execution_count": 26,
     "metadata": {},
     "output_type": "execute_result"
    }
   ],
   "source": [
    "tableResult[8][6:] = [tableResult[7][6]]\n",
    "tableResult[8]"
   ]
  },
  {
   "cell_type": "markdown",
   "id": "8fbd458c",
   "metadata": {
    "papermill": {
     "duration": 0.015819,
     "end_time": "2022-11-23T06:12:23.409217",
     "exception": false,
     "start_time": "2022-11-23T06:12:23.393398",
     "status": "completed"
    },
    "tags": []
   },
   "source": [
    "Unpacking elements from array https://dev.to/arikaturika/unpacking-python-lists-vs-destructuring-javascript-arrays-3mog"
   ]
  },
  {
   "cell_type": "code",
   "execution_count": 27,
   "id": "96f45b52",
   "metadata": {
    "execution": {
     "iopub.execute_input": "2022-11-23T06:12:23.441009Z",
     "iopub.status.busy": "2022-11-23T06:12:23.440649Z",
     "iopub.status.idle": "2022-11-23T06:12:23.502934Z",
     "shell.execute_reply": "2022-11-23T06:12:23.502049Z"
    },
    "jupyter": {
     "source_hidden": true
    },
    "papermill": {
     "duration": 0.080552,
     "end_time": "2022-11-23T06:12:23.505101",
     "exception": false,
     "start_time": "2022-11-23T06:12:23.424549",
     "status": "completed"
    },
    "tags": []
   },
   "outputs": [],
   "source": [
    "browser.close()"
   ]
  },
  {
   "cell_type": "markdown",
   "id": "81adbcaf",
   "metadata": {
    "papermill": {
     "duration": 0.014273,
     "end_time": "2022-11-23T06:12:23.534254",
     "exception": false,
     "start_time": "2022-11-23T06:12:23.519981",
     "status": "completed"
    },
    "tags": []
   },
   "source": [
    "## Display result"
   ]
  },
  {
   "cell_type": "code",
   "execution_count": 28,
   "id": "b4f8a027",
   "metadata": {
    "execution": {
     "iopub.execute_input": "2022-11-23T06:12:23.568831Z",
     "iopub.status.busy": "2022-11-23T06:12:23.568076Z",
     "iopub.status.idle": "2022-11-23T06:12:23.572759Z",
     "shell.execute_reply": "2022-11-23T06:12:23.571952Z"
    },
    "jupyter": {
     "source_hidden": true
    },
    "papermill": {
     "duration": 0.025021,
     "end_time": "2022-11-23T06:12:23.574894",
     "exception": false,
     "start_time": "2022-11-23T06:12:23.549873",
     "status": "completed"
    },
    "tags": []
   },
   "outputs": [],
   "source": [
    "theader = ['국가', '입국 제한', '백신접종증명서', '음성확인서', '사전 신고 절차', '격리', '비고 (상세 조건 확인)']\n",
    "# tableResult = theader + tableResult"
   ]
  },
  {
   "cell_type": "code",
   "execution_count": 29,
   "id": "34826ff3",
   "metadata": {
    "execution": {
     "iopub.execute_input": "2022-11-23T06:12:23.609476Z",
     "iopub.status.busy": "2022-11-23T06:12:23.608921Z",
     "iopub.status.idle": "2022-11-23T06:12:34.473532Z",
     "shell.execute_reply": "2022-11-23T06:12:34.472230Z"
    },
    "jupyter": {
     "source_hidden": true
    },
    "papermill": {
     "duration": 10.88482,
     "end_time": "2022-11-23T06:12:34.476185",
     "exception": false,
     "start_time": "2022-11-23T06:12:23.591365",
     "status": "completed"
    },
    "tags": []
   },
   "outputs": [
    {
     "name": "stdout",
     "output_type": "stream",
     "text": [
      "Collecting pandas==1.5.1\r\n",
      "  Downloading pandas-1.5.1-cp39-cp39-manylinux_2_17_x86_64.manylinux2014_x86_64.whl (12.2 MB)\r\n",
      "\u001b[?25l     \u001b[90m━━━━━━━━━━━━━━━━━━━━━━━━━━━━━━━━━━━━━━━━\u001b[0m \u001b[32m0.0/12.2 MB\u001b[0m \u001b[31m?\u001b[0m eta \u001b[36m-:--:--\u001b[0m"
     ]
    },
    {
     "name": "stdout",
     "output_type": "stream",
     "text": [
      "\r",
      "\u001b[2K     \u001b[91m━━━━━━━━\u001b[0m\u001b[91m╸\u001b[0m\u001b[90m━━━━━━━━━━━━━━━━━━━━━━━━━━━━━━━\u001b[0m \u001b[32m2.7/12.2 MB\u001b[0m \u001b[31m79.9 MB/s\u001b[0m eta \u001b[36m0:00:01\u001b[0m"
     ]
    },
    {
     "name": "stdout",
     "output_type": "stream",
     "text": [
      "\r",
      "\u001b[2K     \u001b[91m━━━━━━━━━━━━━━━━━━━\u001b[0m\u001b[91m╸\u001b[0m\u001b[90m━━━━━━━━━━━━━━━━━━━━\u001b[0m \u001b[32m6.0/12.2 MB\u001b[0m \u001b[31m87.7 MB/s\u001b[0m eta \u001b[36m0:00:01\u001b[0m\r",
      "\u001b[2K     \u001b[91m━━━━━━━━━━━━━━━━━━━━━━━━━━━━━━━━\u001b[0m\u001b[91m╸\u001b[0m\u001b[90m━━━━━━━\u001b[0m \u001b[32m10.0/12.2 MB\u001b[0m \u001b[31m94.3 MB/s\u001b[0m eta \u001b[36m0:00:01\u001b[0m"
     ]
    },
    {
     "name": "stdout",
     "output_type": "stream",
     "text": [
      "\r",
      "\u001b[2K     \u001b[91m━━━━━━━━━━━━━━━━━━━━━━━━━━━━━━━━━━━━━━\u001b[0m\u001b[91m╸\u001b[0m \u001b[32m12.2/12.2 MB\u001b[0m \u001b[31m101.6 MB/s\u001b[0m eta \u001b[36m0:00:01\u001b[0m"
     ]
    },
    {
     "name": "stdout",
     "output_type": "stream",
     "text": [
      "\r",
      "\u001b[2K     \u001b[90m━━━━━━━━━━━━━━━━━━━━━━━━━━━━━━━━━━━━━━━━\u001b[0m \u001b[32m12.2/12.2 MB\u001b[0m \u001b[31m67.3 MB/s\u001b[0m eta \u001b[36m0:00:00\u001b[0m\r\n",
      "\u001b[?25h"
     ]
    },
    {
     "name": "stdout",
     "output_type": "stream",
     "text": [
      "Collecting numpy>=1.20.3\r\n"
     ]
    },
    {
     "name": "stdout",
     "output_type": "stream",
     "text": [
      "  Downloading numpy-1.23.5-cp39-cp39-manylinux_2_17_x86_64.manylinux2014_x86_64.whl (17.1 MB)\r\n",
      "\u001b[?25l     \u001b[90m━━━━━━━━━━━━━━━━━━━━━━━━━━━━━━━━━━━━━━━━\u001b[0m \u001b[32m0.0/17.1 MB\u001b[0m \u001b[31m?\u001b[0m eta \u001b[36m-:--:--\u001b[0m\r",
      "\u001b[2K     \u001b[91m━━━━━━━━━\u001b[0m\u001b[90m╺\u001b[0m\u001b[90m━━━━━━━━━━━━━━━━━━━━━━━━━━━━━━\u001b[0m \u001b[32m3.9/17.1 MB\u001b[0m \u001b[31m116.3 MB/s\u001b[0m eta \u001b[36m0:00:01\u001b[0m"
     ]
    },
    {
     "name": "stdout",
     "output_type": "stream",
     "text": [
      "\r",
      "\u001b[2K     \u001b[91m━━━━━━━━━━━━━━━━━\u001b[0m\u001b[90m╺\u001b[0m\u001b[90m━━━━━━━━━━━━━━━━━━━━━━\u001b[0m \u001b[32m7.5/17.1 MB\u001b[0m \u001b[31m106.7 MB/s\u001b[0m eta \u001b[36m0:00:01\u001b[0m"
     ]
    },
    {
     "name": "stdout",
     "output_type": "stream",
     "text": [
      "\r",
      "\u001b[2K     \u001b[91m━━━━━━━━━━━━━━━━━━━━━━━━━\u001b[0m\u001b[91m╸\u001b[0m\u001b[90m━━━━━━━━━━━━━\u001b[0m \u001b[32m11.2/17.1 MB\u001b[0m \u001b[31m104.5 MB/s\u001b[0m eta \u001b[36m0:00:01\u001b[0m\r",
      "\u001b[2K     \u001b[91m━━━━━━━━━━━━━━━━━━━━━━━━━━━━━━━━━━\u001b[0m\u001b[91m╸\u001b[0m\u001b[90m━━━━\u001b[0m \u001b[32m15.2/17.1 MB\u001b[0m \u001b[31m104.5 MB/s\u001b[0m eta \u001b[36m0:00:01\u001b[0m"
     ]
    },
    {
     "name": "stdout",
     "output_type": "stream",
     "text": [
      "\r",
      "\u001b[2K     \u001b[91m━━━━━━━━━━━━━━━━━━━━━━━━━━━━━━━━━━━━━━\u001b[0m\u001b[91m╸\u001b[0m \u001b[32m17.1/17.1 MB\u001b[0m \u001b[31m102.7 MB/s\u001b[0m eta \u001b[36m0:00:01\u001b[0m"
     ]
    },
    {
     "name": "stdout",
     "output_type": "stream",
     "text": [
      "\r",
      "\u001b[2K     \u001b[91m━━━━━━━━━━━━━━━━━━━━━━━━━━━━━━━━━━━━━━\u001b[0m\u001b[91m╸\u001b[0m \u001b[32m17.1/17.1 MB\u001b[0m \u001b[31m102.7 MB/s\u001b[0m eta \u001b[36m0:00:01\u001b[0m\r",
      "\u001b[2K     \u001b[90m━━━━━━━━━━━━━━━━━━━━━━━━━━━━━━━━━━━━━━━━\u001b[0m \u001b[32m17.1/17.1 MB\u001b[0m \u001b[31m60.4 MB/s\u001b[0m eta \u001b[36m0:00:00\u001b[0m\r\n",
      "\u001b[?25h"
     ]
    },
    {
     "name": "stdout",
     "output_type": "stream",
     "text": [
      "Requirement already satisfied: python-dateutil>=2.8.1 in /opt/hostedtoolcache/Python/3.9.15/x64/lib/python3.9/site-packages (from pandas==1.5.1) (2.8.2)\r\n"
     ]
    },
    {
     "name": "stdout",
     "output_type": "stream",
     "text": [
      "Collecting pytz>=2020.1\r\n",
      "  Downloading pytz-2022.6-py2.py3-none-any.whl (498 kB)\r\n",
      "\u001b[?25l"
     ]
    },
    {
     "name": "stdout",
     "output_type": "stream",
     "text": [
      "     \u001b[90m━━━━━━━━━━━━━━━━━━━━━━━━━━━━━━━━━━━━━━━━\u001b[0m \u001b[32m0.0/498.1 kB\u001b[0m \u001b[31m?\u001b[0m eta \u001b[36m-:--:--\u001b[0m\r",
      "\u001b[2K     \u001b[90m━━━━━━━━━━━━━━━━━━━━━━━━━━━━━━━━━━━━━━\u001b[0m \u001b[32m498.1/498.1 kB\u001b[0m \u001b[31m63.2 MB/s\u001b[0m eta \u001b[36m0:00:00\u001b[0m\r\n",
      "\u001b[?25hRequirement already satisfied: six>=1.5 in /opt/hostedtoolcache/Python/3.9.15/x64/lib/python3.9/site-packages (from python-dateutil>=2.8.1->pandas==1.5.1) (1.16.0)\r\n"
     ]
    },
    {
     "name": "stdout",
     "output_type": "stream",
     "text": [
      "Installing collected packages: pytz, numpy, pandas\r\n"
     ]
    },
    {
     "name": "stdout",
     "output_type": "stream",
     "text": [
      "Successfully installed numpy-1.23.5 pandas-1.5.1 pytz-2022.6\r\n"
     ]
    },
    {
     "name": "stdout",
     "output_type": "stream",
     "text": [
      "\r\n",
      "\u001b[1m[\u001b[0m\u001b[34;49mnotice\u001b[0m\u001b[1;39;49m]\u001b[0m\u001b[39;49m A new release of pip available: \u001b[0m\u001b[31;49m22.3\u001b[0m\u001b[39;49m -> \u001b[0m\u001b[32;49m22.3.1\u001b[0m\r\n",
      "\u001b[1m[\u001b[0m\u001b[34;49mnotice\u001b[0m\u001b[1;39;49m]\u001b[0m\u001b[39;49m To update, run: \u001b[0m\u001b[32;49mpip install --upgrade pip\u001b[0m\r\n"
     ]
    }
   ],
   "source": [
    "!pip3 install pandas==1.5.1"
   ]
  },
  {
   "cell_type": "code",
   "execution_count": 30,
   "id": "431c5a31",
   "metadata": {
    "execution": {
     "iopub.execute_input": "2022-11-23T06:12:34.517657Z",
     "iopub.status.busy": "2022-11-23T06:12:34.515231Z",
     "iopub.status.idle": "2022-11-23T06:12:34.952392Z",
     "shell.execute_reply": "2022-11-23T06:12:34.951196Z"
    },
    "jupyter": {
     "source_hidden": true
    },
    "papermill": {
     "duration": 0.458652,
     "end_time": "2022-11-23T06:12:34.954762",
     "exception": false,
     "start_time": "2022-11-23T06:12:34.496110",
     "status": "completed"
    },
    "tags": []
   },
   "outputs": [
    {
     "data": {
      "text/html": [
       "<div>\n",
       "<style scoped>\n",
       "    .dataframe tbody tr th:only-of-type {\n",
       "        vertical-align: middle;\n",
       "    }\n",
       "\n",
       "    .dataframe tbody tr th {\n",
       "        vertical-align: top;\n",
       "    }\n",
       "\n",
       "    .dataframe thead th {\n",
       "        text-align: right;\n",
       "    }\n",
       "</style>\n",
       "<table border=\"1\" class=\"dataframe\">\n",
       "  <thead>\n",
       "    <tr style=\"text-align: right;\">\n",
       "      <th></th>\n",
       "      <th>국가</th>\n",
       "      <th>입국 제한</th>\n",
       "      <th>백신접종증명서</th>\n",
       "      <th>음성확인서</th>\n",
       "      <th>사전 신고 절차</th>\n",
       "      <th>격리</th>\n",
       "      <th>비고 (상세 조건 확인)</th>\n",
       "    </tr>\n",
       "  </thead>\n",
       "  <tbody>\n",
       "    <tr>\n",
       "      <th>0</th>\n",
       "      <td>일본</td>\n",
       "      <td>X</td>\n",
       "      <td>O</td>\n",
       "      <td>O\\n(백신 3차 접종 X)</td>\n",
       "      <td>[VISIT JAPAN WEB] https://vjw-lp.digital.go.jp/</td>\n",
       "      <td>△\\n(출발 지역별 상이)</td>\n",
       "      <td>[일본 정부 안내사항] https://www.mofa.go.jp/ca/fna/pag...</td>\n",
       "    </tr>\n",
       "    <tr>\n",
       "      <th>1</th>\n",
       "      <td>중국</td>\n",
       "      <td>O</td>\n",
       "      <td>X</td>\n",
       "      <td>O</td>\n",
       "      <td>O\\n[건강 QR 코드]\\n(녹색 QR 필수)\\n[세관신고서] https://hrh...</td>\n",
       "      <td>7일\\n(지역별 상이)</td>\n",
       "      <td>[주한중국대사관 안내사항] http://kr.china-embassy.gov.cn/...</td>\n",
       "    </tr>\n",
       "    <tr>\n",
       "      <th>2</th>\n",
       "      <td>홍콩</td>\n",
       "      <td>△\\n[안내사항] https://www.immd.gov.hk/eng/services...</td>\n",
       "      <td>O\\n(홍콩 거주자 제외)</td>\n",
       "      <td>O</td>\n",
       "      <td>[건강상태신고서]\\n(녹색 QR 필수) https://www.chp.gov.hk/hdf/</td>\n",
       "      <td>X</td>\n",
       "      <td>[홍콩 정부 안내사항] https://www.coronavirus.gov.hk/en...</td>\n",
       "    </tr>\n",
       "    <tr>\n",
       "      <th>3</th>\n",
       "      <td>싱가포르</td>\n",
       "      <td>X</td>\n",
       "      <td>O</td>\n",
       "      <td>X\\n(백신 미접종자 O)</td>\n",
       "      <td>[SG Arrival Card] https://eservices.ica.gov.sg...</td>\n",
       "      <td>X</td>\n",
       "      <td>[싱가포르 정부 안내사항] https://www.ica.gov.sg/enter-tr...</td>\n",
       "    </tr>\n",
       "    <tr>\n",
       "      <th>4</th>\n",
       "      <td>인도네시아</td>\n",
       "      <td>△</td>\n",
       "      <td>O</td>\n",
       "      <td>X</td>\n",
       "      <td>[Peduli Lindungi]\\n[전자세관신고] https://www.peduli...</td>\n",
       "      <td>X</td>\n",
       "      <td>건강상 미접종자\\n음성확인서 필요 (5일 격리)\\n[인도네시아 정부 안내사항] ht...</td>\n",
       "    </tr>\n",
       "    <tr>\n",
       "      <th>5</th>\n",
       "      <td>인도</td>\n",
       "      <td>△</td>\n",
       "      <td>백신접종증명서 또는 음성확인서 필요\\n(Air Suvidha에 사전 등록 필요)</td>\n",
       "      <td>백신접종증명서 또는 음성확인서 필요\\n(Air Suvidha에 사전 등록 필요)</td>\n",
       "      <td>[Air Suvidha] https://www.newdelhiairport.in/a...</td>\n",
       "      <td>△\\n(지역별 상이)</td>\n",
       "      <td>[인도 정부 안내사항] https://www.mohfw.gov.in/</td>\n",
       "    </tr>\n",
       "    <tr>\n",
       "      <th>6</th>\n",
       "      <td>필리핀</td>\n",
       "      <td>△\\n[안내사항] https://dfa.gov.ph/list-of-countries...</td>\n",
       "      <td>O</td>\n",
       "      <td>O\\n(백신 3차 접종 X)</td>\n",
       "      <td>[earrival card] https://www.onehealthpass.com.ph/</td>\n",
       "      <td>5일\\n(백신 미접종자)</td>\n",
       "      <td>격리 비용 자부담\\n[필리핀 관광청 안내] https://philippines.tr...</td>\n",
       "    </tr>\n",
       "    <tr>\n",
       "      <th>7</th>\n",
       "      <td>미국</td>\n",
       "      <td>X</td>\n",
       "      <td>O\\n(시민권자, 영주권자 이민비자 제외)</td>\n",
       "      <td>X</td>\n",
       "      <td>X</td>\n",
       "      <td>X</td>\n",
       "      <td>[질병통제센터 안내사항] https://www.cdc.gov/coronavirus/...</td>\n",
       "    </tr>\n",
       "    <tr>\n",
       "      <th>8</th>\n",
       "      <td>사이판</td>\n",
       "      <td>X</td>\n",
       "      <td>O\\n(시민권자, 영주권자 이민비자 제외)</td>\n",
       "      <td>X</td>\n",
       "      <td>X</td>\n",
       "      <td>X</td>\n",
       "      <td>[질병통제센터 안내사항] https://www.cdc.gov/coronavirus/...</td>\n",
       "    </tr>\n",
       "  </tbody>\n",
       "</table>\n",
       "</div>"
      ],
      "text/plain": [
       "      국가                                              입국 제한  \\\n",
       "0     일본                                                  X   \n",
       "1     중국                                                  O   \n",
       "2     홍콩  △\\n[안내사항] https://www.immd.gov.hk/eng/services...   \n",
       "3   싱가포르                                                  X   \n",
       "4  인도네시아                                                  △   \n",
       "5     인도                                                  △   \n",
       "6    필리핀  △\\n[안내사항] https://dfa.gov.ph/list-of-countries...   \n",
       "7     미국                                                  X   \n",
       "8    사이판                                                  X   \n",
       "\n",
       "                                        백신접종증명서  \\\n",
       "0                                             O   \n",
       "1                                             X   \n",
       "2                                O\\n(홍콩 거주자 제외)   \n",
       "3                                             O   \n",
       "4                                             O   \n",
       "5  백신접종증명서 또는 음성확인서 필요\\n(Air Suvidha에 사전 등록 필요)   \n",
       "6                                             O   \n",
       "7                       O\\n(시민권자, 영주권자 이민비자 제외)   \n",
       "8                       O\\n(시민권자, 영주권자 이민비자 제외)   \n",
       "\n",
       "                                          음성확인서  \\\n",
       "0                               O\\n(백신 3차 접종 X)   \n",
       "1                                             O   \n",
       "2                                             O   \n",
       "3                                X\\n(백신 미접종자 O)   \n",
       "4                                             X   \n",
       "5  백신접종증명서 또는 음성확인서 필요\\n(Air Suvidha에 사전 등록 필요)   \n",
       "6                               O\\n(백신 3차 접종 X)   \n",
       "7                                             X   \n",
       "8                                             X   \n",
       "\n",
       "                                            사전 신고 절차              격리  \\\n",
       "0    [VISIT JAPAN WEB] https://vjw-lp.digital.go.jp/  △\\n(출발 지역별 상이)   \n",
       "1  O\\n[건강 QR 코드]\\n(녹색 QR 필수)\\n[세관신고서] https://hrh...    7일\\n(지역별 상이)   \n",
       "2  [건강상태신고서]\\n(녹색 QR 필수) https://www.chp.gov.hk/hdf/               X   \n",
       "3  [SG Arrival Card] https://eservices.ica.gov.sg...               X   \n",
       "4  [Peduli Lindungi]\\n[전자세관신고] https://www.peduli...               X   \n",
       "5  [Air Suvidha] https://www.newdelhiairport.in/a...     △\\n(지역별 상이)   \n",
       "6  [earrival card] https://www.onehealthpass.com.ph/   5일\\n(백신 미접종자)   \n",
       "7                                                  X               X   \n",
       "8                                                  X               X   \n",
       "\n",
       "                                       비고 (상세 조건 확인)  \n",
       "0  [일본 정부 안내사항] https://www.mofa.go.jp/ca/fna/pag...  \n",
       "1  [주한중국대사관 안내사항] http://kr.china-embassy.gov.cn/...  \n",
       "2  [홍콩 정부 안내사항] https://www.coronavirus.gov.hk/en...  \n",
       "3  [싱가포르 정부 안내사항] https://www.ica.gov.sg/enter-tr...  \n",
       "4  건강상 미접종자\\n음성확인서 필요 (5일 격리)\\n[인도네시아 정부 안내사항] ht...  \n",
       "5             [인도 정부 안내사항] https://www.mohfw.gov.in/  \n",
       "6  격리 비용 자부담\\n[필리핀 관광청 안내] https://philippines.tr...  \n",
       "7  [질병통제센터 안내사항] https://www.cdc.gov/coronavirus/...  \n",
       "8  [질병통제센터 안내사항] https://www.cdc.gov/coronavirus/...  "
      ]
     },
     "execution_count": 30,
     "metadata": {},
     "output_type": "execute_result"
    }
   ],
   "source": [
    "import pandas as pd\n",
    "df = pd.DataFrame(tableResult, columns=theader)\n",
    "df"
   ]
  },
  {
   "cell_type": "code",
   "execution_count": 31,
   "id": "12893a99",
   "metadata": {
    "execution": {
     "iopub.execute_input": "2022-11-23T06:12:34.993251Z",
     "iopub.status.busy": "2022-11-23T06:12:34.992532Z",
     "iopub.status.idle": "2022-11-23T06:12:35.000299Z",
     "shell.execute_reply": "2022-11-23T06:12:34.999333Z"
    },
    "jupyter": {
     "source_hidden": true
    },
    "papermill": {
     "duration": 0.029754,
     "end_time": "2022-11-23T06:12:35.002483",
     "exception": false,
     "start_time": "2022-11-23T06:12:34.972729",
     "status": "completed"
    },
    "tags": []
   },
   "outputs": [],
   "source": [
    "df.to_csv('./asiana-covid.csv', sep=',')"
   ]
  }
 ],
 "metadata": {
  "kernelspec": {
   "display_name": "Python 3 (ipykernel)",
   "language": "python",
   "name": "python3"
  },
  "language_info": {
   "codemirror_mode": {
    "name": "ipython",
    "version": 3
   },
   "file_extension": ".py",
   "mimetype": "text/x-python",
   "name": "python",
   "nbconvert_exporter": "python",
   "pygments_lexer": "ipython3",
   "version": "3.9.15"
  },
  "papermill": {
   "default_parameters": {},
   "duration": 33.730444,
   "end_time": "2022-11-23T06:12:37.640303",
   "environment_variables": {},
   "exception": null,
   "input_path": "Asiana covid info crawler.ipynb",
   "output_path": "/home/runner/work/_temp/nb-runner/Asiana covid info crawler.ipynb",
   "parameters": {
    "secretsPath": "/home/runner/work/_temp/secrets.json"
   },
   "start_time": "2022-11-23T06:12:03.909859",
   "version": "2.4.0"
  }
 },
 "nbformat": 4,
 "nbformat_minor": 5
}